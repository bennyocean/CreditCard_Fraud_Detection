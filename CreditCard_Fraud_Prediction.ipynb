{
 "cells": [
  {
   "cell_type": "code",
   "execution_count": 1,
   "id": "d010becd-4816-4e60-a3a0-3ef9c376630e",
   "metadata": {},
   "outputs": [],
   "source": [
    "import pandas as pd"
   ]
  },
  {
   "cell_type": "code",
   "execution_count": 2,
   "id": "5ecdc3c8-c791-479a-9b60-31f7e83c6656",
   "metadata": {},
   "outputs": [
    {
     "data": {
      "text/html": [
       "<div>\n",
       "<style scoped>\n",
       "    .dataframe tbody tr th:only-of-type {\n",
       "        vertical-align: middle;\n",
       "    }\n",
       "\n",
       "    .dataframe tbody tr th {\n",
       "        vertical-align: top;\n",
       "    }\n",
       "\n",
       "    .dataframe thead th {\n",
       "        text-align: right;\n",
       "    }\n",
       "</style>\n",
       "<table border=\"1\" class=\"dataframe\">\n",
       "  <thead>\n",
       "    <tr style=\"text-align: right;\">\n",
       "      <th></th>\n",
       "      <th>Time</th>\n",
       "      <th>V1</th>\n",
       "      <th>V2</th>\n",
       "      <th>V3</th>\n",
       "      <th>V4</th>\n",
       "      <th>V5</th>\n",
       "      <th>V6</th>\n",
       "      <th>V7</th>\n",
       "      <th>V8</th>\n",
       "      <th>V9</th>\n",
       "      <th>...</th>\n",
       "      <th>V21</th>\n",
       "      <th>V22</th>\n",
       "      <th>V23</th>\n",
       "      <th>V24</th>\n",
       "      <th>V25</th>\n",
       "      <th>V26</th>\n",
       "      <th>V27</th>\n",
       "      <th>V28</th>\n",
       "      <th>Amount</th>\n",
       "      <th>Class</th>\n",
       "    </tr>\n",
       "  </thead>\n",
       "  <tbody>\n",
       "    <tr>\n",
       "      <th>0</th>\n",
       "      <td>0.0</td>\n",
       "      <td>-1.359807</td>\n",
       "      <td>-0.072781</td>\n",
       "      <td>2.536347</td>\n",
       "      <td>1.378155</td>\n",
       "      <td>-0.338321</td>\n",
       "      <td>0.462388</td>\n",
       "      <td>0.239599</td>\n",
       "      <td>0.098698</td>\n",
       "      <td>0.363787</td>\n",
       "      <td>...</td>\n",
       "      <td>-0.018307</td>\n",
       "      <td>0.277838</td>\n",
       "      <td>-0.110474</td>\n",
       "      <td>0.066928</td>\n",
       "      <td>0.128539</td>\n",
       "      <td>-0.189115</td>\n",
       "      <td>0.133558</td>\n",
       "      <td>-0.021053</td>\n",
       "      <td>149.62</td>\n",
       "      <td>0</td>\n",
       "    </tr>\n",
       "    <tr>\n",
       "      <th>1</th>\n",
       "      <td>0.0</td>\n",
       "      <td>1.191857</td>\n",
       "      <td>0.266151</td>\n",
       "      <td>0.166480</td>\n",
       "      <td>0.448154</td>\n",
       "      <td>0.060018</td>\n",
       "      <td>-0.082361</td>\n",
       "      <td>-0.078803</td>\n",
       "      <td>0.085102</td>\n",
       "      <td>-0.255425</td>\n",
       "      <td>...</td>\n",
       "      <td>-0.225775</td>\n",
       "      <td>-0.638672</td>\n",
       "      <td>0.101288</td>\n",
       "      <td>-0.339846</td>\n",
       "      <td>0.167170</td>\n",
       "      <td>0.125895</td>\n",
       "      <td>-0.008983</td>\n",
       "      <td>0.014724</td>\n",
       "      <td>2.69</td>\n",
       "      <td>0</td>\n",
       "    </tr>\n",
       "    <tr>\n",
       "      <th>2</th>\n",
       "      <td>1.0</td>\n",
       "      <td>-1.358354</td>\n",
       "      <td>-1.340163</td>\n",
       "      <td>1.773209</td>\n",
       "      <td>0.379780</td>\n",
       "      <td>-0.503198</td>\n",
       "      <td>1.800499</td>\n",
       "      <td>0.791461</td>\n",
       "      <td>0.247676</td>\n",
       "      <td>-1.514654</td>\n",
       "      <td>...</td>\n",
       "      <td>0.247998</td>\n",
       "      <td>0.771679</td>\n",
       "      <td>0.909412</td>\n",
       "      <td>-0.689281</td>\n",
       "      <td>-0.327642</td>\n",
       "      <td>-0.139097</td>\n",
       "      <td>-0.055353</td>\n",
       "      <td>-0.059752</td>\n",
       "      <td>378.66</td>\n",
       "      <td>0</td>\n",
       "    </tr>\n",
       "    <tr>\n",
       "      <th>3</th>\n",
       "      <td>1.0</td>\n",
       "      <td>-0.966272</td>\n",
       "      <td>-0.185226</td>\n",
       "      <td>1.792993</td>\n",
       "      <td>-0.863291</td>\n",
       "      <td>-0.010309</td>\n",
       "      <td>1.247203</td>\n",
       "      <td>0.237609</td>\n",
       "      <td>0.377436</td>\n",
       "      <td>-1.387024</td>\n",
       "      <td>...</td>\n",
       "      <td>-0.108300</td>\n",
       "      <td>0.005274</td>\n",
       "      <td>-0.190321</td>\n",
       "      <td>-1.175575</td>\n",
       "      <td>0.647376</td>\n",
       "      <td>-0.221929</td>\n",
       "      <td>0.062723</td>\n",
       "      <td>0.061458</td>\n",
       "      <td>123.50</td>\n",
       "      <td>0</td>\n",
       "    </tr>\n",
       "    <tr>\n",
       "      <th>4</th>\n",
       "      <td>2.0</td>\n",
       "      <td>-1.158233</td>\n",
       "      <td>0.877737</td>\n",
       "      <td>1.548718</td>\n",
       "      <td>0.403034</td>\n",
       "      <td>-0.407193</td>\n",
       "      <td>0.095921</td>\n",
       "      <td>0.592941</td>\n",
       "      <td>-0.270533</td>\n",
       "      <td>0.817739</td>\n",
       "      <td>...</td>\n",
       "      <td>-0.009431</td>\n",
       "      <td>0.798278</td>\n",
       "      <td>-0.137458</td>\n",
       "      <td>0.141267</td>\n",
       "      <td>-0.206010</td>\n",
       "      <td>0.502292</td>\n",
       "      <td>0.219422</td>\n",
       "      <td>0.215153</td>\n",
       "      <td>69.99</td>\n",
       "      <td>0</td>\n",
       "    </tr>\n",
       "  </tbody>\n",
       "</table>\n",
       "<p>5 rows × 31 columns</p>\n",
       "</div>"
      ],
      "text/plain": [
       "   Time        V1        V2        V3        V4        V5        V6        V7  \\\n",
       "0   0.0 -1.359807 -0.072781  2.536347  1.378155 -0.338321  0.462388  0.239599   \n",
       "1   0.0  1.191857  0.266151  0.166480  0.448154  0.060018 -0.082361 -0.078803   \n",
       "2   1.0 -1.358354 -1.340163  1.773209  0.379780 -0.503198  1.800499  0.791461   \n",
       "3   1.0 -0.966272 -0.185226  1.792993 -0.863291 -0.010309  1.247203  0.237609   \n",
       "4   2.0 -1.158233  0.877737  1.548718  0.403034 -0.407193  0.095921  0.592941   \n",
       "\n",
       "         V8        V9  ...       V21       V22       V23       V24       V25  \\\n",
       "0  0.098698  0.363787  ... -0.018307  0.277838 -0.110474  0.066928  0.128539   \n",
       "1  0.085102 -0.255425  ... -0.225775 -0.638672  0.101288 -0.339846  0.167170   \n",
       "2  0.247676 -1.514654  ...  0.247998  0.771679  0.909412 -0.689281 -0.327642   \n",
       "3  0.377436 -1.387024  ... -0.108300  0.005274 -0.190321 -1.175575  0.647376   \n",
       "4 -0.270533  0.817739  ... -0.009431  0.798278 -0.137458  0.141267 -0.206010   \n",
       "\n",
       "        V26       V27       V28  Amount  Class  \n",
       "0 -0.189115  0.133558 -0.021053  149.62      0  \n",
       "1  0.125895 -0.008983  0.014724    2.69      0  \n",
       "2 -0.139097 -0.055353 -0.059752  378.66      0  \n",
       "3 -0.221929  0.062723  0.061458  123.50      0  \n",
       "4  0.502292  0.219422  0.215153   69.99      0  \n",
       "\n",
       "[5 rows x 31 columns]"
      ]
     },
     "execution_count": 2,
     "metadata": {},
     "output_type": "execute_result"
    }
   ],
   "source": [
    "df = pd.read_csv(\"creditcard.csv\")\n",
    "df.head()"
   ]
  },
  {
   "cell_type": "markdown",
   "id": "e4de8bac-cf23-46dc-8a0c-b8f1831cf154",
   "metadata": {},
   "source": [
    "# 0. Pre-Processing Data and EDA"
   ]
  },
  {
   "cell_type": "code",
   "execution_count": 3,
   "id": "7964dd30-0e15-4272-9806-f2d622f88376",
   "metadata": {},
   "outputs": [
    {
     "data": {
      "text/plain": [
       "(284807, 31)"
      ]
     },
     "execution_count": 3,
     "metadata": {},
     "output_type": "execute_result"
    }
   ],
   "source": [
    "df.shape"
   ]
  },
  {
   "cell_type": "code",
   "execution_count": 4,
   "id": "9eb71098-fb45-4340-94b6-bd366d739d36",
   "metadata": {},
   "outputs": [
    {
     "data": {
      "text/plain": [
       "Class\n",
       "0    284315\n",
       "1       492\n",
       "Name: count, dtype: int64"
      ]
     },
     "execution_count": 4,
     "metadata": {},
     "output_type": "execute_result"
    }
   ],
   "source": [
    "df[\"Class\"].value_counts()"
   ]
  },
  {
   "cell_type": "markdown",
   "id": "41cf86ec-c4ea-4164-806e-64167adee8f4",
   "metadata": {},
   "source": [
    "492 transactions have been labeled as Class 1, i.e., fraudaulent transactions. The total number of transactions is 284807."
   ]
  },
  {
   "cell_type": "code",
   "execution_count": 5,
   "id": "ac029786-b5f0-4de7-b794-f80a3843eede",
   "metadata": {},
   "outputs": [
    {
     "data": {
      "text/plain": [
       "array([[<Axes: title={'center': 'Time'}>, <Axes: title={'center': 'V1'}>,\n",
       "        <Axes: title={'center': 'V2'}>, <Axes: title={'center': 'V3'}>,\n",
       "        <Axes: title={'center': 'V4'}>, <Axes: title={'center': 'V5'}>],\n",
       "       [<Axes: title={'center': 'V6'}>, <Axes: title={'center': 'V7'}>,\n",
       "        <Axes: title={'center': 'V8'}>, <Axes: title={'center': 'V9'}>,\n",
       "        <Axes: title={'center': 'V10'}>, <Axes: title={'center': 'V11'}>],\n",
       "       [<Axes: title={'center': 'V12'}>, <Axes: title={'center': 'V13'}>,\n",
       "        <Axes: title={'center': 'V14'}>, <Axes: title={'center': 'V15'}>,\n",
       "        <Axes: title={'center': 'V16'}>, <Axes: title={'center': 'V17'}>],\n",
       "       [<Axes: title={'center': 'V18'}>, <Axes: title={'center': 'V19'}>,\n",
       "        <Axes: title={'center': 'V20'}>, <Axes: title={'center': 'V21'}>,\n",
       "        <Axes: title={'center': 'V22'}>, <Axes: title={'center': 'V23'}>],\n",
       "       [<Axes: title={'center': 'V24'}>, <Axes: title={'center': 'V25'}>,\n",
       "        <Axes: title={'center': 'V26'}>, <Axes: title={'center': 'V27'}>,\n",
       "        <Axes: title={'center': 'V28'}>,\n",
       "        <Axes: title={'center': 'Amount'}>],\n",
       "       [<Axes: title={'center': 'Class'}>, <Axes: >, <Axes: >, <Axes: >,\n",
       "        <Axes: >, <Axes: >]], dtype=object)"
      ]
     },
     "execution_count": 5,
     "metadata": {},
     "output_type": "execute_result"
    },
    {
     "data": {
      "image/png": "[encoded data removed]",
      "text/plain": [
       "<Figure size 3000x3000 with 36 Axes>"
      ]
     },
     "metadata": {},
     "output_type": "display_data"
    }
   ],
   "source": [
    "df.hist(bins = 30, figsize=(30,30))"
   ]
  },
  {
   "cell_type": "code",
   "execution_count": null,
   "id": "0144741b-7883-46f3-af3e-572840d27d65",
   "metadata": {},
   "outputs": [],
   "source": []
  },
  {
   "cell_type": "code",
   "execution_count": null,
   "id": "f55085f0-3837-494d-bd4f-e84a2ff6e8ec",
   "metadata": {},
   "outputs": [],
   "source": []
  },
  {
   "cell_type": "markdown",
   "id": "fc5b696e-335b-4937-b589-3a0e31cae5c8",
   "metadata": {},
   "source": [
    "### Descriptive Statistics"
   ]
  },
  {
   "cell_type": "code",
   "execution_count": 6,
   "id": "6d3e17e5-6fad-4a33-91a3-fa5bb157bdd6",
   "metadata": {},
   "outputs": [
    {
     "data": {
      "text/html": [
       "<div>\n",
       "<style scoped>\n",
       "    .dataframe tbody tr th:only-of-type {\n",
       "        vertical-align: middle;\n",
       "    }\n",
       "\n",
       "    .dataframe tbody tr th {\n",
       "        vertical-align: top;\n",
       "    }\n",
       "\n",
       "    .dataframe thead th {\n",
       "        text-align: right;\n",
       "    }\n",
       "</style>\n",
       "<table border=\"1\" class=\"dataframe\">\n",
       "  <thead>\n",
       "    <tr style=\"text-align: right;\">\n",
       "      <th></th>\n",
       "      <th>Time</th>\n",
       "      <th>V1</th>\n",
       "      <th>V2</th>\n",
       "      <th>V3</th>\n",
       "      <th>V4</th>\n",
       "      <th>V5</th>\n",
       "      <th>V6</th>\n",
       "      <th>V7</th>\n",
       "      <th>V8</th>\n",
       "      <th>V9</th>\n",
       "      <th>...</th>\n",
       "      <th>V21</th>\n",
       "      <th>V22</th>\n",
       "      <th>V23</th>\n",
       "      <th>V24</th>\n",
       "      <th>V25</th>\n",
       "      <th>V26</th>\n",
       "      <th>V27</th>\n",
       "      <th>V28</th>\n",
       "      <th>Amount</th>\n",
       "      <th>Class</th>\n",
       "    </tr>\n",
       "  </thead>\n",
       "  <tbody>\n",
       "    <tr>\n",
       "      <th>count</th>\n",
       "      <td>284807.000000</td>\n",
       "      <td>2.848070e+05</td>\n",
       "      <td>2.848070e+05</td>\n",
       "      <td>2.848070e+05</td>\n",
       "      <td>2.848070e+05</td>\n",
       "      <td>2.848070e+05</td>\n",
       "      <td>2.848070e+05</td>\n",
       "      <td>2.848070e+05</td>\n",
       "      <td>2.848070e+05</td>\n",
       "      <td>2.848070e+05</td>\n",
       "      <td>...</td>\n",
       "      <td>2.848070e+05</td>\n",
       "      <td>2.848070e+05</td>\n",
       "      <td>2.848070e+05</td>\n",
       "      <td>2.848070e+05</td>\n",
       "      <td>2.848070e+05</td>\n",
       "      <td>2.848070e+05</td>\n",
       "      <td>2.848070e+05</td>\n",
       "      <td>2.848070e+05</td>\n",
       "      <td>284807.000000</td>\n",
       "      <td>284807.000000</td>\n",
       "    </tr>\n",
       "    <tr>\n",
       "      <th>mean</th>\n",
       "      <td>94813.859575</td>\n",
       "      <td>1.168375e-15</td>\n",
       "      <td>3.416908e-16</td>\n",
       "      <td>-1.379537e-15</td>\n",
       "      <td>2.074095e-15</td>\n",
       "      <td>9.604066e-16</td>\n",
       "      <td>1.487313e-15</td>\n",
       "      <td>-5.556467e-16</td>\n",
       "      <td>1.213481e-16</td>\n",
       "      <td>-2.406331e-15</td>\n",
       "      <td>...</td>\n",
       "      <td>1.654067e-16</td>\n",
       "      <td>-3.568593e-16</td>\n",
       "      <td>2.578648e-16</td>\n",
       "      <td>4.473266e-15</td>\n",
       "      <td>5.340915e-16</td>\n",
       "      <td>1.683437e-15</td>\n",
       "      <td>-3.660091e-16</td>\n",
       "      <td>-1.227390e-16</td>\n",
       "      <td>88.349619</td>\n",
       "      <td>0.001727</td>\n",
       "    </tr>\n",
       "    <tr>\n",
       "      <th>std</th>\n",
       "      <td>47488.145955</td>\n",
       "      <td>1.958696e+00</td>\n",
       "      <td>1.651309e+00</td>\n",
       "      <td>1.516255e+00</td>\n",
       "      <td>1.415869e+00</td>\n",
       "      <td>1.380247e+00</td>\n",
       "      <td>1.332271e+00</td>\n",
       "      <td>1.237094e+00</td>\n",
       "      <td>1.194353e+00</td>\n",
       "      <td>1.098632e+00</td>\n",
       "      <td>...</td>\n",
       "      <td>7.345240e-01</td>\n",
       "      <td>7.257016e-01</td>\n",
       "      <td>6.244603e-01</td>\n",
       "      <td>6.056471e-01</td>\n",
       "      <td>5.212781e-01</td>\n",
       "      <td>4.822270e-01</td>\n",
       "      <td>4.036325e-01</td>\n",
       "      <td>3.300833e-01</td>\n",
       "      <td>250.120109</td>\n",
       "      <td>0.041527</td>\n",
       "    </tr>\n",
       "    <tr>\n",
       "      <th>min</th>\n",
       "      <td>0.000000</td>\n",
       "      <td>-5.640751e+01</td>\n",
       "      <td>-7.271573e+01</td>\n",
       "      <td>-4.832559e+01</td>\n",
       "      <td>-5.683171e+00</td>\n",
       "      <td>-1.137433e+02</td>\n",
       "      <td>-2.616051e+01</td>\n",
       "      <td>-4.355724e+01</td>\n",
       "      <td>-7.321672e+01</td>\n",
       "      <td>-1.343407e+01</td>\n",
       "      <td>...</td>\n",
       "      <td>-3.483038e+01</td>\n",
       "      <td>-1.093314e+01</td>\n",
       "      <td>-4.480774e+01</td>\n",
       "      <td>-2.836627e+00</td>\n",
       "      <td>-1.029540e+01</td>\n",
       "      <td>-2.604551e+00</td>\n",
       "      <td>-2.256568e+01</td>\n",
       "      <td>-1.543008e+01</td>\n",
       "      <td>0.000000</td>\n",
       "      <td>0.000000</td>\n",
       "    </tr>\n",
       "    <tr>\n",
       "      <th>25%</th>\n",
       "      <td>54201.500000</td>\n",
       "      <td>-9.203734e-01</td>\n",
       "      <td>-5.985499e-01</td>\n",
       "      <td>-8.903648e-01</td>\n",
       "      <td>-8.486401e-01</td>\n",
       "      <td>-6.915971e-01</td>\n",
       "      <td>-7.682956e-01</td>\n",
       "      <td>-5.540759e-01</td>\n",
       "      <td>-2.086297e-01</td>\n",
       "      <td>-6.430976e-01</td>\n",
       "      <td>...</td>\n",
       "      <td>-2.283949e-01</td>\n",
       "      <td>-5.423504e-01</td>\n",
       "      <td>-1.618463e-01</td>\n",
       "      <td>-3.545861e-01</td>\n",
       "      <td>-3.171451e-01</td>\n",
       "      <td>-3.269839e-01</td>\n",
       "      <td>-7.083953e-02</td>\n",
       "      <td>-5.295979e-02</td>\n",
       "      <td>5.600000</td>\n",
       "      <td>0.000000</td>\n",
       "    </tr>\n",
       "    <tr>\n",
       "      <th>50%</th>\n",
       "      <td>84692.000000</td>\n",
       "      <td>1.810880e-02</td>\n",
       "      <td>6.548556e-02</td>\n",
       "      <td>1.798463e-01</td>\n",
       "      <td>-1.984653e-02</td>\n",
       "      <td>-5.433583e-02</td>\n",
       "      <td>-2.741871e-01</td>\n",
       "      <td>4.010308e-02</td>\n",
       "      <td>2.235804e-02</td>\n",
       "      <td>-5.142873e-02</td>\n",
       "      <td>...</td>\n",
       "      <td>-2.945017e-02</td>\n",
       "      <td>6.781943e-03</td>\n",
       "      <td>-1.119293e-02</td>\n",
       "      <td>4.097606e-02</td>\n",
       "      <td>1.659350e-02</td>\n",
       "      <td>-5.213911e-02</td>\n",
       "      <td>1.342146e-03</td>\n",
       "      <td>1.124383e-02</td>\n",
       "      <td>22.000000</td>\n",
       "      <td>0.000000</td>\n",
       "    </tr>\n",
       "    <tr>\n",
       "      <th>75%</th>\n",
       "      <td>139320.500000</td>\n",
       "      <td>1.315642e+00</td>\n",
       "      <td>8.037239e-01</td>\n",
       "      <td>1.027196e+00</td>\n",
       "      <td>7.433413e-01</td>\n",
       "      <td>6.119264e-01</td>\n",
       "      <td>3.985649e-01</td>\n",
       "      <td>5.704361e-01</td>\n",
       "      <td>3.273459e-01</td>\n",
       "      <td>5.971390e-01</td>\n",
       "      <td>...</td>\n",
       "      <td>1.863772e-01</td>\n",
       "      <td>5.285536e-01</td>\n",
       "      <td>1.476421e-01</td>\n",
       "      <td>4.395266e-01</td>\n",
       "      <td>3.507156e-01</td>\n",
       "      <td>2.409522e-01</td>\n",
       "      <td>9.104512e-02</td>\n",
       "      <td>7.827995e-02</td>\n",
       "      <td>77.165000</td>\n",
       "      <td>0.000000</td>\n",
       "    </tr>\n",
       "    <tr>\n",
       "      <th>max</th>\n",
       "      <td>172792.000000</td>\n",
       "      <td>2.454930e+00</td>\n",
       "      <td>2.205773e+01</td>\n",
       "      <td>9.382558e+00</td>\n",
       "      <td>1.687534e+01</td>\n",
       "      <td>3.480167e+01</td>\n",
       "      <td>7.330163e+01</td>\n",
       "      <td>1.205895e+02</td>\n",
       "      <td>2.000721e+01</td>\n",
       "      <td>1.559499e+01</td>\n",
       "      <td>...</td>\n",
       "      <td>2.720284e+01</td>\n",
       "      <td>1.050309e+01</td>\n",
       "      <td>2.252841e+01</td>\n",
       "      <td>4.584549e+00</td>\n",
       "      <td>7.519589e+00</td>\n",
       "      <td>3.517346e+00</td>\n",
       "      <td>3.161220e+01</td>\n",
       "      <td>3.384781e+01</td>\n",
       "      <td>25691.160000</td>\n",
       "      <td>1.000000</td>\n",
       "    </tr>\n",
       "  </tbody>\n",
       "</table>\n",
       "<p>8 rows × 31 columns</p>\n",
       "</div>"
      ],
      "text/plain": [
       "                Time            V1            V2            V3            V4  \\\n",
       "count  284807.000000  2.848070e+05  2.848070e+05  2.848070e+05  2.848070e+05   \n",
       "mean    94813.859575  1.168375e-15  3.416908e-16 -1.379537e-15  2.074095e-15   \n",
       "std     47488.145955  1.958696e+00  1.651309e+00  1.516255e+00  1.415869e+00   \n",
       "min         0.000000 -5.640751e+01 -7.271573e+01 -4.832559e+01 -5.683171e+00   \n",
       "25%     54201.500000 -9.203734e-01 -5.985499e-01 -8.903648e-01 -8.486401e-01   \n",
       "50%     84692.000000  1.810880e-02  6.548556e-02  1.798463e-01 -1.984653e-02   \n",
       "75%    139320.500000  1.315642e+00  8.037239e-01  1.027196e+00  7.433413e-01   \n",
       "max    172792.000000  2.454930e+00  2.205773e+01  9.382558e+00  1.687534e+01   \n",
       "\n",
       "                 V5            V6            V7            V8            V9  \\\n",
       "count  2.848070e+05  2.848070e+05  2.848070e+05  2.848070e+05  2.848070e+05   \n",
       "mean   9.604066e-16  1.487313e-15 -5.556467e-16  1.213481e-16 -2.406331e-15   \n",
       "std    1.380247e+00  1.332271e+00  1.237094e+00  1.194353e+00  1.098632e+00   \n",
       "min   -1.137433e+02 -2.616051e+01 -4.355724e+01 -7.321672e+01 -1.343407e+01   \n",
       "25%   -6.915971e-01 -7.682956e-01 -5.540759e-01 -2.086297e-01 -6.430976e-01   \n",
       "50%   -5.433583e-02 -2.741871e-01  4.010308e-02  2.235804e-02 -5.142873e-02   \n",
       "75%    6.119264e-01  3.985649e-01  5.704361e-01  3.273459e-01  5.971390e-01   \n",
       "max    3.480167e+01  7.330163e+01  1.205895e+02  2.000721e+01  1.559499e+01   \n",
       "\n",
       "       ...           V21           V22           V23           V24  \\\n",
       "count  ...  2.848070e+05  2.848070e+05  2.848070e+05  2.848070e+05   \n",
       "mean   ...  1.654067e-16 -3.568593e-16  2.578648e-16  4.473266e-15   \n",
       "std    ...  7.345240e-01  7.257016e-01  6.244603e-01  6.056471e-01   \n",
       "min    ... -3.483038e+01 -1.093314e+01 -4.480774e+01 -2.836627e+00   \n",
       "25%    ... -2.283949e-01 -5.423504e-01 -1.618463e-01 -3.545861e-01   \n",
       "50%    ... -2.945017e-02  6.781943e-03 -1.119293e-02  4.097606e-02   \n",
       "75%    ...  1.863772e-01  5.285536e-01  1.476421e-01  4.395266e-01   \n",
       "max    ...  2.720284e+01  1.050309e+01  2.252841e+01  4.584549e+00   \n",
       "\n",
       "                V25           V26           V27           V28         Amount  \\\n",
       "count  2.848070e+05  2.848070e+05  2.848070e+05  2.848070e+05  284807.000000   \n",
       "mean   5.340915e-16  1.683437e-15 -3.660091e-16 -1.227390e-16      88.349619   \n",
       "std    5.212781e-01  4.822270e-01  4.036325e-01  3.300833e-01     250.120109   \n",
       "min   -1.029540e+01 -2.604551e+00 -2.256568e+01 -1.543008e+01       0.000000   \n",
       "25%   -3.171451e-01 -3.269839e-01 -7.083953e-02 -5.295979e-02       5.600000   \n",
       "50%    1.659350e-02 -5.213911e-02  1.342146e-03  1.124383e-02      22.000000   \n",
       "75%    3.507156e-01  2.409522e-01  9.104512e-02  7.827995e-02      77.165000   \n",
       "max    7.519589e+00  3.517346e+00  3.161220e+01  3.384781e+01   25691.160000   \n",
       "\n",
       "               Class  \n",
       "count  284807.000000  \n",
       "mean        0.001727  \n",
       "std         0.041527  \n",
       "min         0.000000  \n",
       "25%         0.000000  \n",
       "50%         0.000000  \n",
       "75%         0.000000  \n",
       "max         1.000000  \n",
       "\n",
       "[8 rows x 31 columns]"
      ]
     },
     "execution_count": 6,
     "metadata": {},
     "output_type": "execute_result"
    }
   ],
   "source": [
    "df.describe()"
   ]
  },
  {
   "cell_type": "code",
   "execution_count": 7,
   "id": "d3dc155b-154a-4dab-bf18-fb11be82ad43",
   "metadata": {},
   "outputs": [
    {
     "data": {
      "text/plain": [
       "<Axes: >"
      ]
     },
     "execution_count": 7,
     "metadata": {},
     "output_type": "execute_result"
    },
    {
     "data": {
      "image/png": "[encoded data removed]",
      "text/plain": [
       "<Figure size 640x480 with 1 Axes>"
      ]
     },
     "metadata": {},
     "output_type": "display_data"
    }
   ],
   "source": [
    "df.boxplot(column= [\"Amount\"])"
   ]
  },
  {
   "cell_type": "markdown",
   "id": "57c163a1-0d44-4bae-abcf-1b2a66b3c51b",
   "metadata": {},
   "source": [
    "- Transactions amount have wide spreads with min. of 0 and max. 25691.16\n",
    "- Relative fraudaulent cases = 0.1727%"
   ]
  },
  {
   "cell_type": "code",
   "execution_count": null,
   "id": "f39edeca-6d77-4de9-a1ee-78963ce74650",
   "metadata": {},
   "outputs": [],
   "source": []
  },
  {
   "cell_type": "code",
   "execution_count": null,
   "id": "cf5f4640-8b1a-4825-8ba9-8f15eb23d924",
   "metadata": {},
   "outputs": [],
   "source": []
  },
  {
   "cell_type": "markdown",
   "id": "40424a47-2ad4-4b75-a5ea-4ab69d5dbc78",
   "metadata": {},
   "source": [
    "### Robust Scaling"
   ]
  },
  {
   "cell_type": "code",
   "execution_count": 8,
   "id": "1eef7c85-4caf-4f25-9865-e41124c608ad",
   "metadata": {},
   "outputs": [],
   "source": [
    "from sklearn.preprocessing import RobustScaler"
   ]
  },
  {
   "cell_type": "code",
   "execution_count": 9,
   "id": "664c2c49-1267-4863-9852-b1464a317730",
   "metadata": {},
   "outputs": [],
   "source": [
    "new_df = df.copy()\n",
    "new_df[\"Amount\"] = RobustScaler().fit_transform(new_df[\"Amount\"].to_numpy().reshape(-1,1))"
   ]
  },
  {
   "cell_type": "code",
   "execution_count": 10,
   "id": "644b9193-56ed-410c-8451-7e656062c90d",
   "metadata": {},
   "outputs": [
    {
     "data": {
      "text/plain": [
       "<bound method NDFrame.describe of 0         1.783274\n",
       "1        -0.269825\n",
       "2         4.983721\n",
       "3         1.418291\n",
       "4         0.670579\n",
       "            ...   \n",
       "284802   -0.296653\n",
       "284803    0.038986\n",
       "284804    0.641096\n",
       "284805   -0.167680\n",
       "284806    2.724796\n",
       "Name: Amount, Length: 284807, dtype: float64>"
      ]
     },
     "execution_count": 10,
     "metadata": {},
     "output_type": "execute_result"
    }
   ],
   "source": [
    "new_df[\"Amount\"].describe"
   ]
  },
  {
   "cell_type": "code",
   "execution_count": 11,
   "id": "c9730127-613e-44da-bb97-94251f5a0588",
   "metadata": {},
   "outputs": [
    {
     "data": {
      "text/plain": [
       "<Axes: >"
      ]
     },
     "execution_count": 11,
     "metadata": {},
     "output_type": "execute_result"
    },
    {
     "data": {
      "image/png": "[encoded data removed]",
      "text/plain": [
       "<Figure size 640x480 with 1 Axes>"
      ]
     },
     "metadata": {},
     "output_type": "display_data"
    }
   ],
   "source": [
    "new_df[\"Amount\"].hist()"
   ]
  },
  {
   "cell_type": "code",
   "execution_count": null,
   "id": "37e4a696-a453-45a1-a0af-6b604b8467f1",
   "metadata": {},
   "outputs": [],
   "source": []
  },
  {
   "cell_type": "code",
   "execution_count": null,
   "id": "709c99d1-f50f-4b82-b0de-52474bbee2bb",
   "metadata": {},
   "outputs": [],
   "source": []
  },
  {
   "cell_type": "code",
   "execution_count": 12,
   "id": "c2a0deaf-d77d-459e-84cb-0bf2d9abc64c",
   "metadata": {},
   "outputs": [
    {
     "data": {
      "text/html": [
       "<div>\n",
       "<style scoped>\n",
       "    .dataframe tbody tr th:only-of-type {\n",
       "        vertical-align: middle;\n",
       "    }\n",
       "\n",
       "    .dataframe tbody tr th {\n",
       "        vertical-align: top;\n",
       "    }\n",
       "\n",
       "    .dataframe thead th {\n",
       "        text-align: right;\n",
       "    }\n",
       "</style>\n",
       "<table border=\"1\" class=\"dataframe\">\n",
       "  <thead>\n",
       "    <tr style=\"text-align: right;\">\n",
       "      <th></th>\n",
       "      <th>Time</th>\n",
       "      <th>V1</th>\n",
       "      <th>V2</th>\n",
       "      <th>V3</th>\n",
       "      <th>V4</th>\n",
       "      <th>V5</th>\n",
       "      <th>V6</th>\n",
       "      <th>V7</th>\n",
       "      <th>V8</th>\n",
       "      <th>V9</th>\n",
       "      <th>...</th>\n",
       "      <th>V21</th>\n",
       "      <th>V22</th>\n",
       "      <th>V23</th>\n",
       "      <th>V24</th>\n",
       "      <th>V25</th>\n",
       "      <th>V26</th>\n",
       "      <th>V27</th>\n",
       "      <th>V28</th>\n",
       "      <th>Amount</th>\n",
       "      <th>Class</th>\n",
       "    </tr>\n",
       "  </thead>\n",
       "  <tbody>\n",
       "    <tr>\n",
       "      <th>0</th>\n",
       "      <td>0.000000</td>\n",
       "      <td>-1.359807</td>\n",
       "      <td>-0.072781</td>\n",
       "      <td>2.536347</td>\n",
       "      <td>1.378155</td>\n",
       "      <td>-0.338321</td>\n",
       "      <td>0.462388</td>\n",
       "      <td>0.239599</td>\n",
       "      <td>0.098698</td>\n",
       "      <td>0.363787</td>\n",
       "      <td>...</td>\n",
       "      <td>-0.018307</td>\n",
       "      <td>0.277838</td>\n",
       "      <td>-0.110474</td>\n",
       "      <td>0.066928</td>\n",
       "      <td>0.128539</td>\n",
       "      <td>-0.189115</td>\n",
       "      <td>0.133558</td>\n",
       "      <td>-0.021053</td>\n",
       "      <td>1.783274</td>\n",
       "      <td>0</td>\n",
       "    </tr>\n",
       "    <tr>\n",
       "      <th>1</th>\n",
       "      <td>0.000000</td>\n",
       "      <td>1.191857</td>\n",
       "      <td>0.266151</td>\n",
       "      <td>0.166480</td>\n",
       "      <td>0.448154</td>\n",
       "      <td>0.060018</td>\n",
       "      <td>-0.082361</td>\n",
       "      <td>-0.078803</td>\n",
       "      <td>0.085102</td>\n",
       "      <td>-0.255425</td>\n",
       "      <td>...</td>\n",
       "      <td>-0.225775</td>\n",
       "      <td>-0.638672</td>\n",
       "      <td>0.101288</td>\n",
       "      <td>-0.339846</td>\n",
       "      <td>0.167170</td>\n",
       "      <td>0.125895</td>\n",
       "      <td>-0.008983</td>\n",
       "      <td>0.014724</td>\n",
       "      <td>-0.269825</td>\n",
       "      <td>0</td>\n",
       "    </tr>\n",
       "    <tr>\n",
       "      <th>2</th>\n",
       "      <td>0.000006</td>\n",
       "      <td>-1.358354</td>\n",
       "      <td>-1.340163</td>\n",
       "      <td>1.773209</td>\n",
       "      <td>0.379780</td>\n",
       "      <td>-0.503198</td>\n",
       "      <td>1.800499</td>\n",
       "      <td>0.791461</td>\n",
       "      <td>0.247676</td>\n",
       "      <td>-1.514654</td>\n",
       "      <td>...</td>\n",
       "      <td>0.247998</td>\n",
       "      <td>0.771679</td>\n",
       "      <td>0.909412</td>\n",
       "      <td>-0.689281</td>\n",
       "      <td>-0.327642</td>\n",
       "      <td>-0.139097</td>\n",
       "      <td>-0.055353</td>\n",
       "      <td>-0.059752</td>\n",
       "      <td>4.983721</td>\n",
       "      <td>0</td>\n",
       "    </tr>\n",
       "    <tr>\n",
       "      <th>3</th>\n",
       "      <td>0.000006</td>\n",
       "      <td>-0.966272</td>\n",
       "      <td>-0.185226</td>\n",
       "      <td>1.792993</td>\n",
       "      <td>-0.863291</td>\n",
       "      <td>-0.010309</td>\n",
       "      <td>1.247203</td>\n",
       "      <td>0.237609</td>\n",
       "      <td>0.377436</td>\n",
       "      <td>-1.387024</td>\n",
       "      <td>...</td>\n",
       "      <td>-0.108300</td>\n",
       "      <td>0.005274</td>\n",
       "      <td>-0.190321</td>\n",
       "      <td>-1.175575</td>\n",
       "      <td>0.647376</td>\n",
       "      <td>-0.221929</td>\n",
       "      <td>0.062723</td>\n",
       "      <td>0.061458</td>\n",
       "      <td>1.418291</td>\n",
       "      <td>0</td>\n",
       "    </tr>\n",
       "    <tr>\n",
       "      <th>4</th>\n",
       "      <td>0.000012</td>\n",
       "      <td>-1.158233</td>\n",
       "      <td>0.877737</td>\n",
       "      <td>1.548718</td>\n",
       "      <td>0.403034</td>\n",
       "      <td>-0.407193</td>\n",
       "      <td>0.095921</td>\n",
       "      <td>0.592941</td>\n",
       "      <td>-0.270533</td>\n",
       "      <td>0.817739</td>\n",
       "      <td>...</td>\n",
       "      <td>-0.009431</td>\n",
       "      <td>0.798278</td>\n",
       "      <td>-0.137458</td>\n",
       "      <td>0.141267</td>\n",
       "      <td>-0.206010</td>\n",
       "      <td>0.502292</td>\n",
       "      <td>0.219422</td>\n",
       "      <td>0.215153</td>\n",
       "      <td>0.670579</td>\n",
       "      <td>0</td>\n",
       "    </tr>\n",
       "  </tbody>\n",
       "</table>\n",
       "<p>5 rows × 31 columns</p>\n",
       "</div>"
      ],
      "text/plain": [
       "       Time        V1        V2        V3        V4        V5        V6  \\\n",
       "0  0.000000 -1.359807 -0.072781  2.536347  1.378155 -0.338321  0.462388   \n",
       "1  0.000000  1.191857  0.266151  0.166480  0.448154  0.060018 -0.082361   \n",
       "2  0.000006 -1.358354 -1.340163  1.773209  0.379780 -0.503198  1.800499   \n",
       "3  0.000006 -0.966272 -0.185226  1.792993 -0.863291 -0.010309  1.247203   \n",
       "4  0.000012 -1.158233  0.877737  1.548718  0.403034 -0.407193  0.095921   \n",
       "\n",
       "         V7        V8        V9  ...       V21       V22       V23       V24  \\\n",
       "0  0.239599  0.098698  0.363787  ... -0.018307  0.277838 -0.110474  0.066928   \n",
       "1 -0.078803  0.085102 -0.255425  ... -0.225775 -0.638672  0.101288 -0.339846   \n",
       "2  0.791461  0.247676 -1.514654  ...  0.247998  0.771679  0.909412 -0.689281   \n",
       "3  0.237609  0.377436 -1.387024  ... -0.108300  0.005274 -0.190321 -1.175575   \n",
       "4  0.592941 -0.270533  0.817739  ... -0.009431  0.798278 -0.137458  0.141267   \n",
       "\n",
       "        V25       V26       V27       V28    Amount  Class  \n",
       "0  0.128539 -0.189115  0.133558 -0.021053  1.783274      0  \n",
       "1  0.167170  0.125895 -0.008983  0.014724 -0.269825      0  \n",
       "2 -0.327642 -0.139097 -0.055353 -0.059752  4.983721      0  \n",
       "3  0.647376 -0.221929  0.062723  0.061458  1.418291      0  \n",
       "4 -0.206010  0.502292  0.219422  0.215153  0.670579      0  \n",
       "\n",
       "[5 rows x 31 columns]"
      ]
     },
     "execution_count": 12,
     "metadata": {},
     "output_type": "execute_result"
    }
   ],
   "source": [
    "time = new_df[\"Time\"]\n",
    "new_df[\"Time\"] = (time - time.min()) / (time.max() - time.min())\n",
    "new_df.head()"
   ]
  },
  {
   "cell_type": "code",
   "execution_count": null,
   "id": "c17f2931-7b85-488e-b2e1-6db639ee2077",
   "metadata": {},
   "outputs": [],
   "source": []
  },
  {
   "cell_type": "code",
   "execution_count": null,
   "id": "cd65fb16-de53-4e50-b852-d13f08722769",
   "metadata": {},
   "outputs": [],
   "source": []
  },
  {
   "cell_type": "markdown",
   "id": "1c76395a-40a3-46be-9a4e-1c2d42ddd3b4",
   "metadata": {},
   "source": [
    "# 1. Train / Test Split"
   ]
  },
  {
   "cell_type": "code",
   "execution_count": 13,
   "id": "f440ec1f-7eb3-46d0-8543-bb78aa53be13",
   "metadata": {},
   "outputs": [],
   "source": [
    "from sklearn.model_selection import train_test_split"
   ]
  },
  {
   "cell_type": "markdown",
   "id": "fc188bdf-844b-465b-8032-ec41c31329bb",
   "metadata": {},
   "source": [
    "Splitting the data into train, test, and validation sets. First, I split the data set into a training set of 80%. Then, I split the remaining 20% into a dedicated test and validation set with each 10% of the original data set."
   ]
  },
  {
   "cell_type": "code",
   "execution_count": 14,
   "id": "1ca8c13e-634f-4f45-8df8-48e005753e1d",
   "metadata": {},
   "outputs": [
    {
     "name": "stdout",
     "output_type": "stream",
     "text": [
      "(227845, 31) (56962, 31)\n"
     ]
    }
   ],
   "source": [
    "train_lib, pre_test_lib = train_test_split(new_df, test_size = 0.2, random_state=50)\n",
    "print(train_lib.shape, pre_test_lib.shape)"
   ]
  },
  {
   "cell_type": "code",
   "execution_count": 15,
   "id": "fb17d754-03ac-4902-b35e-0ed762889665",
   "metadata": {},
   "outputs": [
    {
     "name": "stdout",
     "output_type": "stream",
     "text": [
      "(28481, 31) (28481, 31)\n"
     ]
    }
   ],
   "source": [
    "test_lib, val_lib = train_test_split(pre_test_lib, test_size = 0.5, random_state=50)\n",
    "print(test_lib.shape, val_lib.shape)"
   ]
  },
  {
   "cell_type": "code",
   "execution_count": 16,
   "id": "be742848-75d2-4755-8d89-743d0a6cba50",
   "metadata": {},
   "outputs": [
    {
     "data": {
      "text/plain": [
       "(Class\n",
       " 0    227441\n",
       " 1       404\n",
       " Name: count, dtype: int64,\n",
       " Class\n",
       " 0    28436\n",
       " 1       45\n",
       " Name: count, dtype: int64,\n",
       " Class\n",
       " 0    28438\n",
       " 1       43\n",
       " Name: count, dtype: int64)"
      ]
     },
     "execution_count": 16,
     "metadata": {},
     "output_type": "execute_result"
    }
   ],
   "source": [
    "train_lib[\"Class\"].value_counts(), test_lib[\"Class\"].value_counts(), val_lib[\"Class\"].value_counts()"
   ]
  },
  {
   "cell_type": "markdown",
   "id": "7bfea904-e97f-4453-9b37-759129412fad",
   "metadata": {},
   "source": [
    "### Split into Features & Target"
   ]
  },
  {
   "cell_type": "code",
   "execution_count": 17,
   "id": "fd8d6002-e8d5-4cb8-9fe5-15a1750bb434",
   "metadata": {},
   "outputs": [],
   "source": [
    "x_train, y_train = train_lib.iloc[:, :-1], train_lib.iloc[:, -1]\n",
    "x_test, y_test = test_lib.iloc[:, :-1], test_lib.iloc[:, -1]\n",
    "x_val, y_val = val_lib.iloc[:, :-1], val_lib.iloc[:, -1]"
   ]
  },
  {
   "cell_type": "code",
   "execution_count": null,
   "id": "0686a1a6-039d-4057-abf4-276b22b78cfc",
   "metadata": {},
   "outputs": [],
   "source": []
  },
  {
   "cell_type": "code",
   "execution_count": null,
   "id": "00436345-34ed-4b4f-b219-2d312af1a4a0",
   "metadata": {},
   "outputs": [],
   "source": []
  },
  {
   "cell_type": "markdown",
   "id": "0b9d4712-26cf-4113-b9b7-910110ebe34e",
   "metadata": {},
   "source": [
    "# 2. Model Training & Evaluation"
   ]
  },
  {
   "cell_type": "markdown",
   "id": "9158a8a8-c989-40de-9572-74358b6a76d0",
   "metadata": {},
   "source": [
    "In this section, we evaluate five machine learning models:\n",
    "- **Logistic Regression:** A baseline statistical model for estimating probabilities, widely used for binary classification.\n",
    "- **Shallow Neural Network:** A simpler architecture testing the hypothesis that less complexity can effectively capture data patterns.\n",
    "- **Random Forest:** Constructs multiple decision trees for classification, known for high accuracy and flexibility.\n",
    "- **Gradient Boosting Machine:** Uses sequential model building to correct errors, known for its predictive power.\n",
    "- **Support Vector Machine:** Known for its effectiveness in high-dimensional spaces, ideal for binary classification tasks."
   ]
  },
  {
   "cell_type": "code",
   "execution_count": 18,
   "id": "3ca0de83-8042-44c0-b4eb-cf4211f4a1f7",
   "metadata": {},
   "outputs": [],
   "source": [
    "from sklearn.linear_model import LogisticRegression"
   ]
  },
  {
   "cell_type": "markdown",
   "id": "ddb2ab18-2a46-4597-a2ef-b978e54beb88",
   "metadata": {},
   "source": [
    "### Logistic Regression"
   ]
  },
  {
   "cell_type": "code",
   "execution_count": 19,
   "id": "77b6ce71-7182-4a8d-9365-0942131f56f4",
   "metadata": {},
   "outputs": [
    {
     "name": "stderr",
     "output_type": "stream",
     "text": [
      "/Users/bennyschellinger/miniforge3/envs/new_env_name/lib/python3.8/site-packages/sklearn/linear_model/_logistic.py:460: ConvergenceWarning: lbfgs failed to converge (status=1):\n",
      "STOP: TOTAL NO. of ITERATIONS REACHED LIMIT.\n",
      "\n",
      "Increase the number of iterations (max_iter) or scale the data as shown in:\n",
      "    https://scikit-learn.org/stable/modules/preprocessing.html\n",
      "Please also refer to the documentation for alternative solver options:\n",
      "    https://scikit-learn.org/stable/modules/linear_model.html#logistic-regression\n",
      "  n_iter_i = _check_optimize_result(\n"
     ]
    },
    {
     "data": {
      "text/plain": [
       "0.9993197129627598"
      ]
     },
     "execution_count": 19,
     "metadata": {},
     "output_type": "execute_result"
    }
   ],
   "source": [
    "logreg = LogisticRegression()\n",
    "logreg.fit(x_train, y_train)\n",
    "logreg.score(x_train, y_train)"
   ]
  },
  {
   "cell_type": "code",
   "execution_count": 20,
   "id": "2ee1a2d1-83b2-48de-b87d-4e4f5f18973a",
   "metadata": {},
   "outputs": [],
   "source": [
    "from sklearn.metrics import classification_report"
   ]
  },
  {
   "cell_type": "markdown",
   "id": "09d6e131-1fc2-4382-a1d8-dce7f958dd4b",
   "metadata": {},
   "source": [
    "### Evaluation of Models Using Different Metrics\n",
    "We are especially interested in the **F1-score** that combines **Precision** and **Recall** into a single metric by taking their harmonic mean.\n",
    "\n",
    "- The **Precision** (also called called positive predictive value) can be translated to the question: *Out of all transactions labeled as fraudulent, how many actually were fraudulent?*\n",
    "- The **Recall** (also known as sensitivity or true positive rate, tpr) can answer the question: *Out of all actual fraudulent transactions, how many did the model correctly identify as fraudulent?*\n",
    "\n",
    "### Interpretation of Metrics\n",
    "- High **Precision** means that when the model predicts a transaction is fraudulent, it is very likely to be correct. This reduces the inconvenience to customers from false alarms.\n",
    "- High **Recall** means the model is effective at catching fraudulent transactions, which is crucial for preventing financial loss and protecting customers.\n",
    "- The **F1-score** is particularly valuable in fraud detection because it ensures that both precision and recall are considered together. Focusing solely on improving one metric (e.g., recall) could detrimentally affect the other (e.g., precision), leading to either too many false positives (i.e., legitimate transactions flagged as fraud) or too many false negatives (i.e., fraudulent transactions not detected).\n",
    "\n",
    "### Bottom Line\n",
    "The **F1-score** helps balance these concerns, aiming for a model that is both accurate and reliable."
   ]
  },
  {
   "cell_type": "code",
   "execution_count": 21,
   "id": "db6ac60a-e36d-4794-a372-168dfb571c47",
   "metadata": {},
   "outputs": [
    {
     "name": "stdout",
     "output_type": "stream",
     "text": [
      "              precision    recall  f1-score   support\n",
      "\n",
      "   Not Fraud       1.00      1.00      1.00     28438\n",
      "       Fraud       0.79      0.51      0.62        43\n",
      "\n",
      "    accuracy                           1.00     28481\n",
      "   macro avg       0.89      0.76      0.81     28481\n",
      "weighted avg       1.00      1.00      1.00     28481\n",
      "\n"
     ]
    }
   ],
   "source": [
    "print(classification_report(y_val, logreg.predict(x_val), target_names=[\"Not Fraud\", \"Fraud\"])) # 0 Classes are converted to \"Not Fraud\", while 1 Classes are converted to \"Fraud\""
   ]
  },
  {
   "cell_type": "markdown",
   "id": "e682a3ff-a924-43a2-be6d-3f8da0f72886",
   "metadata": {},
   "source": [
    "The high accuracy leads us to believe that the model is predicting closely the target variable. However, since this data set is highly imbalanced, it only does good on the \"Not Fraud\" data, missing good predcition on the actual fraudaulent transactions."
   ]
  },
  {
   "cell_type": "markdown",
   "id": "28539a99-04e3-470c-b51b-81d253b5cb80",
   "metadata": {},
   "source": [
    "### Shallow Neural Network"
   ]
  },
  {
   "cell_type": "code",
   "execution_count": 24,
   "id": "068a516e-8acc-4349-8f6f-300f28d47bba",
   "metadata": {},
   "outputs": [],
   "source": [
    "from tensorflow.keras.models import Sequential\n",
    "from tensorflow.keras.layers import InputLayer, Dense, BatchNormalization\n",
    "from tensorflow.keras.callbacks import ModelCheckpoint"
   ]
  },
  {
   "cell_type": "code",
   "execution_count": 25,
   "id": "b78deb89-7ae4-4f25-aff1-193696af88f4",
   "metadata": {},
   "outputs": [],
   "source": [
    "shallow_nn =  Sequential()\n",
    "shallow_nn.add(InputLayer((x_train.shape[1],)))\n",
    "shallow_nn.add(Dense(2, \"relu\"))\n",
    "shallow_nn.add(BatchNormalization())\n",
    "shallow_nn.add(Dense(1, \"sigmoid\")) # output probabilitly"
   ]
  },
  {
   "cell_type": "code",
   "execution_count": 26,
   "id": "9382f373-b28a-4243-a0ea-1c8fcccf42da",
   "metadata": {},
   "outputs": [],
   "source": [
    "checkpoint = ModelCheckpoint(\"shallow_nn\", save_best_only=True)"
   ]
  },
  {
   "cell_type": "markdown",
   "id": "d470aee8-bc64-41b1-bd1e-6ec554072423",
   "metadata": {},
   "source": [
    "### Definition of Loss Function, Optimizer, and Metrics "
   ]
  },
  {
   "cell_type": "markdown",
   "id": "0c59e147-fbca-42d8-a85f-3dee42d942e6",
   "metadata": {},
   "source": [
    "- The ```adam``` optimizer adjusts the model weights to minimize errors in a smart, adaptive manner.\n",
    "- The ```binary_crossentropy``` loss function is specifically chosen for binary classification tasks, guiding the model to improve its predictions by minimizing the difference between the predicted probabilities and the actual binary labels.\n",
    "- Finally, the model's effectiveness is gauged by its ```accuracy```, providing a straightforward metric to understand how often the model makes correct predictions."
   ]
  },
  {
   "cell_type": "code",
   "execution_count": 27,
   "id": "660dc681-1234-4d7e-a240-c10849f3cf9b",
   "metadata": {},
   "outputs": [],
   "source": [
    "shallow_nn.compile(optimizer=\"adam\", loss = \"binary_crossentropy\", metrics=[\"accuracy\"])"
   ]
  },
  {
   "cell_type": "code",
   "execution_count": 28,
   "id": "d27022b4-720e-4c84-aee3-e75140a6c617",
   "metadata": {},
   "outputs": [
    {
     "name": "stdout",
     "output_type": "stream",
     "text": [
      "Model: \"sequential\"\n",
      "_________________________________________________________________\n",
      " Layer (type)                Output Shape              Param #   \n",
      "=================================================================\n",
      " dense (Dense)               (None, 2)                 62        \n",
      "                                                                 \n",
      " batch_normalization (Batch  (None, 2)                 8         \n",
      " Normalization)                                                  \n",
      "                                                                 \n",
      " dense_1 (Dense)             (None, 1)                 3         \n",
      "                                                                 \n",
      "=================================================================\n",
      "Total params: 73 (292.00 Byte)\n",
      "Trainable params: 69 (276.00 Byte)\n",
      "Non-trainable params: 4 (16.00 Byte)\n",
      "_________________________________________________________________\n"
     ]
    }
   ],
   "source": [
    "shallow_nn.summary()"
   ]
  },
  {
   "cell_type": "code",
   "execution_count": 29,
   "id": "021b99a2-8e4f-4e45-a27b-62ef3a32cba5",
   "metadata": {},
   "outputs": [
    {
     "name": "stdout",
     "output_type": "stream",
     "text": [
      "Epoch 1/5\n"
     ]
    },
    {
     "name": "stderr",
     "output_type": "stream",
     "text": [
      "2024-04-10 16:18:53.590299: I tensorflow/core/grappler/optimizers/custom_graph_optimizer_registry.cc:114] Plugin optimizer for device_type GPU is enabled.\n"
     ]
    },
    {
     "name": "stdout",
     "output_type": "stream",
     "text": [
      "7121/7121 [==============================] - ETA: 0s - loss: 0.0526 - accuracy: 0.9874"
     ]
    },
    {
     "name": "stderr",
     "output_type": "stream",
     "text": [
      "2024-04-10 16:19:40.501429: I tensorflow/core/grappler/optimizers/custom_graph_optimizer_registry.cc:114] Plugin optimizer for device_type GPU is enabled.\n"
     ]
    },
    {
     "name": "stdout",
     "output_type": "stream",
     "text": [
      "INFO:tensorflow:Assets written to: shallow_nn/assets\n"
     ]
    },
    {
     "name": "stderr",
     "output_type": "stream",
     "text": [
      "INFO:tensorflow:Assets written to: shallow_nn/assets\n"
     ]
    },
    {
     "name": "stdout",
     "output_type": "stream",
     "text": [
      "7121/7121 [==============================] - 50s 7ms/step - loss: 0.0526 - accuracy: 0.9874 - val_loss: 0.0092 - val_accuracy: 0.9991\n",
      "Epoch 2/5\n",
      "7121/7121 [==============================] - 46s 6ms/step - loss: 0.0039 - accuracy: 0.9992 - val_loss: 0.0098 - val_accuracy: 0.9989\n",
      "Epoch 3/5\n",
      "7120/7121 [============================>.] - ETA: 0s - loss: 0.0036 - accuracy: 0.9993INFO:tensorflow:Assets written to: shallow_nn/assets\n"
     ]
    },
    {
     "name": "stderr",
     "output_type": "stream",
     "text": [
      "INFO:tensorflow:Assets written to: shallow_nn/assets\n"
     ]
    },
    {
     "name": "stdout",
     "output_type": "stream",
     "text": [
      "7121/7121 [==============================] - 46s 7ms/step - loss: 0.0036 - accuracy: 0.9993 - val_loss: 0.0087 - val_accuracy: 0.9990\n",
      "Epoch 4/5\n",
      "7118/7121 [============================>.] - ETA: 0s - loss: 0.0037 - accuracy: 0.9992INFO:tensorflow:Assets written to: shallow_nn/assets\n"
     ]
    },
    {
     "name": "stderr",
     "output_type": "stream",
     "text": [
      "INFO:tensorflow:Assets written to: shallow_nn/assets\n"
     ]
    },
    {
     "name": "stdout",
     "output_type": "stream",
     "text": [
      "7121/7121 [==============================] - 47s 7ms/step - loss: 0.0037 - accuracy: 0.9992 - val_loss: 0.0075 - val_accuracy: 0.9989\n",
      "Epoch 5/5\n",
      "7121/7121 [==============================] - 46s 7ms/step - loss: 0.0038 - accuracy: 0.9992 - val_loss: 0.0080 - val_accuracy: 0.9988\n"
     ]
    },
    {
     "data": {
      "text/plain": [
       "<keras.src.callbacks.History at 0x29f243370>"
      ]
     },
     "execution_count": 29,
     "metadata": {},
     "output_type": "execute_result"
    }
   ],
   "source": [
    "shallow_nn.fit(x_train, y_train, validation_data=(x_val, y_val), epochs=5, callbacks=checkpoint, batch_size=32)"
   ]
  },
  {
   "cell_type": "code",
   "execution_count": 85,
   "id": "f1e7b6e8-f8ce-475b-99b4-f146097180ed",
   "metadata": {},
   "outputs": [],
   "source": [
    "def neural_net_predictions(model, x, y):\n",
    "    nn_pred = (model.predict(x).flatten() > 0.5).astype(int)\n",
    "    clas_rep = classification_report(y, nn_pred, target_names=[\"Not Fraud\", \"Fraud\"])\n",
    "    print(clas_rep)"
   ]
  },
  {
   "cell_type": "code",
   "execution_count": 46,
   "id": "ad0e5487-a575-4e5f-8eeb-d93664108f03",
   "metadata": {},
   "outputs": [
    {
     "name": "stdout",
     "output_type": "stream",
     "text": [
      "891/891 [==============================] - 1s 1ms/step\n",
      "              precision    recall  f1-score   support\n",
      "\n",
      "   Not Fraud       1.00      1.00      1.00     28438\n",
      "       Fraud       0.61      0.65      0.63        43\n",
      "\n",
      "    accuracy                           1.00     28481\n",
      "   macro avg       0.80      0.83      0.81     28481\n",
      "weighted avg       1.00      1.00      1.00     28481\n",
      "\n"
     ]
    }
   ],
   "source": [
    "neural_net_predictions(shallow_nn, x_val, y_val)"
   ]
  },
  {
   "cell_type": "markdown",
   "id": "a2d1043c-5317-448e-a417-d3b2994f722d",
   "metadata": {},
   "source": [
    "### Random Forest Classifier"
   ]
  },
  {
   "cell_type": "code",
   "execution_count": 47,
   "id": "f4b51d4e-cf5b-4d43-a7ff-b6bec1ca1db8",
   "metadata": {},
   "outputs": [],
   "source": [
    "from sklearn.ensemble import RandomForestClassifier"
   ]
  },
  {
   "cell_type": "code",
   "execution_count": 48,
   "id": "6e767703-8e84-461d-b32a-9a1e13483370",
   "metadata": {},
   "outputs": [
    {
     "data": {
      "text/html": [
       "<style>#sk-container-id-1 {color: black;}#sk-container-id-1 pre{padding: 0;}#sk-container-id-1 div.sk-toggleable {background-color: white;}#sk-container-id-1 label.sk-toggleable__label {cursor: pointer;display: block;width: 100%;margin-bottom: 0;padding: 0.3em;box-sizing: border-box;text-align: center;}#sk-container-id-1 label.sk-toggleable__label-arrow:before {content: \"▸\";float: left;margin-right: 0.25em;color: #696969;}#sk-container-id-1 label.sk-toggleable__label-arrow:hover:before {color: black;}#sk-container-id-1 div.sk-estimator:hover label.sk-toggleable__label-arrow:before {color: black;}#sk-container-id-1 div.sk-toggleable__content {max-height: 0;max-width: 0;overflow: hidden;text-align: left;background-color: #f0f8ff;}#sk-container-id-1 div.sk-toggleable__content pre {margin: 0.2em;color: black;border-radius: 0.25em;background-color: #f0f8ff;}#sk-container-id-1 input.sk-toggleable__control:checked~div.sk-toggleable__content {max-height: 200px;max-width: 100%;overflow: auto;}#sk-container-id-1 input.sk-toggleable__control:checked~label.sk-toggleable__label-arrow:before {content: \"▾\";}#sk-container-id-1 div.sk-estimator input.sk-toggleable__control:checked~label.sk-toggleable__label {background-color: #d4ebff;}#sk-container-id-1 div.sk-label input.sk-toggleable__control:checked~label.sk-toggleable__label {background-color: #d4ebff;}#sk-container-id-1 input.sk-hidden--visually {border: 0;clip: rect(1px 1px 1px 1px);clip: rect(1px, 1px, 1px, 1px);height: 1px;margin: -1px;overflow: hidden;padding: 0;position: absolute;width: 1px;}#sk-container-id-1 div.sk-estimator {font-family: monospace;background-color: #f0f8ff;border: 1px dotted black;border-radius: 0.25em;box-sizing: border-box;margin-bottom: 0.5em;}#sk-container-id-1 div.sk-estimator:hover {background-color: #d4ebff;}#sk-container-id-1 div.sk-parallel-item::after {content: \"\";width: 100%;border-bottom: 1px solid gray;flex-grow: 1;}#sk-container-id-1 div.sk-label:hover label.sk-toggleable__label {background-color: #d4ebff;}#sk-container-id-1 div.sk-serial::before {content: \"\";position: absolute;border-left: 1px solid gray;box-sizing: border-box;top: 0;bottom: 0;left: 50%;z-index: 0;}#sk-container-id-1 div.sk-serial {display: flex;flex-direction: column;align-items: center;background-color: white;padding-right: 0.2em;padding-left: 0.2em;position: relative;}#sk-container-id-1 div.sk-item {position: relative;z-index: 1;}#sk-container-id-1 div.sk-parallel {display: flex;align-items: stretch;justify-content: center;background-color: white;position: relative;}#sk-container-id-1 div.sk-item::before, #sk-container-id-1 div.sk-parallel-item::before {content: \"\";position: absolute;border-left: 1px solid gray;box-sizing: border-box;top: 0;bottom: 0;left: 50%;z-index: -1;}#sk-container-id-1 div.sk-parallel-item {display: flex;flex-direction: column;z-index: 1;position: relative;background-color: white;}#sk-container-id-1 div.sk-parallel-item:first-child::after {align-self: flex-end;width: 50%;}#sk-container-id-1 div.sk-parallel-item:last-child::after {align-self: flex-start;width: 50%;}#sk-container-id-1 div.sk-parallel-item:only-child::after {width: 0;}#sk-container-id-1 div.sk-dashed-wrapped {border: 1px dashed gray;margin: 0 0.4em 0.5em 0.4em;box-sizing: border-box;padding-bottom: 0.4em;background-color: white;}#sk-container-id-1 div.sk-label label {font-family: monospace;font-weight: bold;display: inline-block;line-height: 1.2em;}#sk-container-id-1 div.sk-label-container {text-align: center;}#sk-container-id-1 div.sk-container {/* jupyter's `normalize.less` sets `[hidden] { display: none; }` but bootstrap.min.css set `[hidden] { display: none !important; }` so we also need the `!important` here to be able to override the default hidden behavior on the sphinx rendered scikit-learn.org. See: https://github.com/scikit-learn/scikit-learn/issues/21755 */display: inline-block !important;position: relative;}#sk-container-id-1 div.sk-text-repr-fallback {display: none;}</style><div id=\"sk-container-id-1\" class=\"sk-top-container\"><div class=\"sk-text-repr-fallback\"><pre>RandomForestClassifier(max_depth=2, n_jobs=-1)</pre><b>In a Jupyter environment, please rerun this cell to show the HTML representation or trust the notebook. <br />On GitHub, the HTML representation is unable to render, please try loading this page with nbviewer.org.</b></div><div class=\"sk-container\" hidden><div class=\"sk-item\"><div class=\"sk-estimator sk-toggleable\"><input class=\"sk-toggleable__control sk-hidden--visually\" id=\"sk-estimator-id-1\" type=\"checkbox\" checked><label for=\"sk-estimator-id-1\" class=\"sk-toggleable__label sk-toggleable__label-arrow\">RandomForestClassifier</label><div class=\"sk-toggleable__content\"><pre>RandomForestClassifier(max_depth=2, n_jobs=-1)</pre></div></div></div></div></div>"
      ],
      "text/plain": [
       "RandomForestClassifier(max_depth=2, n_jobs=-1)"
      ]
     },
     "execution_count": 48,
     "metadata": {},
     "output_type": "execute_result"
    }
   ],
   "source": [
    "rf = RandomForestClassifier(max_depth=2, n_jobs=-1)\n",
    "rf.fit(x_train, y_train)"
   ]
  },
  {
   "cell_type": "code",
   "execution_count": 50,
   "id": "7de10a66-2b7e-421e-bf07-eca23b0886a8",
   "metadata": {},
   "outputs": [
    {
     "name": "stdout",
     "output_type": "stream",
     "text": [
      "              precision    recall  f1-score   support\n",
      "\n",
      "   Not Fraud       1.00      1.00      1.00     28438\n",
      "       Fraud       0.74      0.47      0.57        43\n",
      "\n",
      "    accuracy                           1.00     28481\n",
      "   macro avg       0.87      0.73      0.79     28481\n",
      "weighted avg       1.00      1.00      1.00     28481\n",
      "\n"
     ]
    }
   ],
   "source": [
    "print(classification_report(y_val, rf.predict(x_val), target_names=[\"Not Fraud\", \"Fraud\"]))"
   ]
  },
  {
   "cell_type": "markdown",
   "id": "12730ef6-bd3b-4dfb-8831-7327456aab8f",
   "metadata": {},
   "source": [
    "### Gradient Boosting Classifier"
   ]
  },
  {
   "cell_type": "code",
   "execution_count": 51,
   "id": "3be67981-3032-4f6d-8eab-575659226638",
   "metadata": {},
   "outputs": [],
   "source": [
    "from sklearn.ensemble import GradientBoostingClassifier"
   ]
  },
  {
   "cell_type": "code",
   "execution_count": 52,
   "id": "0b1957eb-8b3e-4cc4-9684-3140321c35e2",
   "metadata": {},
   "outputs": [
    {
     "data": {
      "text/html": [
       "<style>#sk-container-id-2 {color: black;}#sk-container-id-2 pre{padding: 0;}#sk-container-id-2 div.sk-toggleable {background-color: white;}#sk-container-id-2 label.sk-toggleable__label {cursor: pointer;display: block;width: 100%;margin-bottom: 0;padding: 0.3em;box-sizing: border-box;text-align: center;}#sk-container-id-2 label.sk-toggleable__label-arrow:before {content: \"▸\";float: left;margin-right: 0.25em;color: #696969;}#sk-container-id-2 label.sk-toggleable__label-arrow:hover:before {color: black;}#sk-container-id-2 div.sk-estimator:hover label.sk-toggleable__label-arrow:before {color: black;}#sk-container-id-2 div.sk-toggleable__content {max-height: 0;max-width: 0;overflow: hidden;text-align: left;background-color: #f0f8ff;}#sk-container-id-2 div.sk-toggleable__content pre {margin: 0.2em;color: black;border-radius: 0.25em;background-color: #f0f8ff;}#sk-container-id-2 input.sk-toggleable__control:checked~div.sk-toggleable__content {max-height: 200px;max-width: 100%;overflow: auto;}#sk-container-id-2 input.sk-toggleable__control:checked~label.sk-toggleable__label-arrow:before {content: \"▾\";}#sk-container-id-2 div.sk-estimator input.sk-toggleable__control:checked~label.sk-toggleable__label {background-color: #d4ebff;}#sk-container-id-2 div.sk-label input.sk-toggleable__control:checked~label.sk-toggleable__label {background-color: #d4ebff;}#sk-container-id-2 input.sk-hidden--visually {border: 0;clip: rect(1px 1px 1px 1px);clip: rect(1px, 1px, 1px, 1px);height: 1px;margin: -1px;overflow: hidden;padding: 0;position: absolute;width: 1px;}#sk-container-id-2 div.sk-estimator {font-family: monospace;background-color: #f0f8ff;border: 1px dotted black;border-radius: 0.25em;box-sizing: border-box;margin-bottom: 0.5em;}#sk-container-id-2 div.sk-estimator:hover {background-color: #d4ebff;}#sk-container-id-2 div.sk-parallel-item::after {content: \"\";width: 100%;border-bottom: 1px solid gray;flex-grow: 1;}#sk-container-id-2 div.sk-label:hover label.sk-toggleable__label {background-color: #d4ebff;}#sk-container-id-2 div.sk-serial::before {content: \"\";position: absolute;border-left: 1px solid gray;box-sizing: border-box;top: 0;bottom: 0;left: 50%;z-index: 0;}#sk-container-id-2 div.sk-serial {display: flex;flex-direction: column;align-items: center;background-color: white;padding-right: 0.2em;padding-left: 0.2em;position: relative;}#sk-container-id-2 div.sk-item {position: relative;z-index: 1;}#sk-container-id-2 div.sk-parallel {display: flex;align-items: stretch;justify-content: center;background-color: white;position: relative;}#sk-container-id-2 div.sk-item::before, #sk-container-id-2 div.sk-parallel-item::before {content: \"\";position: absolute;border-left: 1px solid gray;box-sizing: border-box;top: 0;bottom: 0;left: 50%;z-index: -1;}#sk-container-id-2 div.sk-parallel-item {display: flex;flex-direction: column;z-index: 1;position: relative;background-color: white;}#sk-container-id-2 div.sk-parallel-item:first-child::after {align-self: flex-end;width: 50%;}#sk-container-id-2 div.sk-parallel-item:last-child::after {align-self: flex-start;width: 50%;}#sk-container-id-2 div.sk-parallel-item:only-child::after {width: 0;}#sk-container-id-2 div.sk-dashed-wrapped {border: 1px dashed gray;margin: 0 0.4em 0.5em 0.4em;box-sizing: border-box;padding-bottom: 0.4em;background-color: white;}#sk-container-id-2 div.sk-label label {font-family: monospace;font-weight: bold;display: inline-block;line-height: 1.2em;}#sk-container-id-2 div.sk-label-container {text-align: center;}#sk-container-id-2 div.sk-container {/* jupyter's `normalize.less` sets `[hidden] { display: none; }` but bootstrap.min.css set `[hidden] { display: none !important; }` so we also need the `!important` here to be able to override the default hidden behavior on the sphinx rendered scikit-learn.org. See: https://github.com/scikit-learn/scikit-learn/issues/21755 */display: inline-block !important;position: relative;}#sk-container-id-2 div.sk-text-repr-fallback {display: none;}</style><div id=\"sk-container-id-2\" class=\"sk-top-container\"><div class=\"sk-text-repr-fallback\"><pre>GradientBoostingClassifier(learning_rate=1.0, max_depth=1, n_estimators=50,\n",
       "                           random_state=0)</pre><b>In a Jupyter environment, please rerun this cell to show the HTML representation or trust the notebook. <br />On GitHub, the HTML representation is unable to render, please try loading this page with nbviewer.org.</b></div><div class=\"sk-container\" hidden><div class=\"sk-item\"><div class=\"sk-estimator sk-toggleable\"><input class=\"sk-toggleable__control sk-hidden--visually\" id=\"sk-estimator-id-2\" type=\"checkbox\" checked><label for=\"sk-estimator-id-2\" class=\"sk-toggleable__label sk-toggleable__label-arrow\">GradientBoostingClassifier</label><div class=\"sk-toggleable__content\"><pre>GradientBoostingClassifier(learning_rate=1.0, max_depth=1, n_estimators=50,\n",
       "                           random_state=0)</pre></div></div></div></div></div>"
      ],
      "text/plain": [
       "GradientBoostingClassifier(learning_rate=1.0, max_depth=1, n_estimators=50,\n",
       "                           random_state=0)"
      ]
     },
     "execution_count": 52,
     "metadata": {},
     "output_type": "execute_result"
    }
   ],
   "source": [
    "gbc = GradientBoostingClassifier(n_estimators=50, learning_rate=1.0, max_depth=1, random_state=0)\n",
    "gbc.fit(x_train, y_train)"
   ]
  },
  {
   "cell_type": "code",
   "execution_count": 53,
   "id": "2635a7f1-6f58-4c6a-b10e-c7604d174919",
   "metadata": {},
   "outputs": [
    {
     "name": "stdout",
     "output_type": "stream",
     "text": [
      "              precision    recall  f1-score   support\n",
      "\n",
      "   Not Fraud       1.00      1.00      1.00     28438\n",
      "       Fraud       0.66      0.63      0.64        43\n",
      "\n",
      "    accuracy                           1.00     28481\n",
      "   macro avg       0.83      0.81      0.82     28481\n",
      "weighted avg       1.00      1.00      1.00     28481\n",
      "\n"
     ]
    }
   ],
   "source": [
    "print(classification_report(y_val, gbc.predict(x_val), target_names=[\"Not Fraud\", \"Fraud\"]))"
   ]
  },
  {
   "cell_type": "markdown",
   "id": "fc1e2954-aaf6-4e08-9ef6-d14b31bb6cdf",
   "metadata": {},
   "source": [
    "### Support Vector Machine"
   ]
  },
  {
   "cell_type": "code",
   "execution_count": 55,
   "id": "ca54f38d-d333-4ec0-8390-ce1b259ce52d",
   "metadata": {},
   "outputs": [],
   "source": [
    "from sklearn.svm import LinearSVC"
   ]
  },
  {
   "cell_type": "code",
   "execution_count": 56,
   "id": "a8ab858c-015c-4b57-b7dd-4fd41d43b5a1",
   "metadata": {},
   "outputs": [
    {
     "name": "stderr",
     "output_type": "stream",
     "text": [
      "/Users/bennyschellinger/miniforge3/envs/new_env_name/lib/python3.8/site-packages/sklearn/svm/_classes.py:32: FutureWarning: The default value of `dual` will change from `True` to `'auto'` in 1.5. Set the value of `dual` explicitly to suppress the warning.\n",
      "  warnings.warn(\n",
      "/Users/bennyschellinger/miniforge3/envs/new_env_name/lib/python3.8/site-packages/sklearn/svm/_base.py:1242: ConvergenceWarning: Liblinear failed to converge, increase the number of iterations.\n",
      "  warnings.warn(\n"
     ]
    },
    {
     "data": {
      "text/html": [
       "<style>#sk-container-id-3 {color: black;}#sk-container-id-3 pre{padding: 0;}#sk-container-id-3 div.sk-toggleable {background-color: white;}#sk-container-id-3 label.sk-toggleable__label {cursor: pointer;display: block;width: 100%;margin-bottom: 0;padding: 0.3em;box-sizing: border-box;text-align: center;}#sk-container-id-3 label.sk-toggleable__label-arrow:before {content: \"▸\";float: left;margin-right: 0.25em;color: #696969;}#sk-container-id-3 label.sk-toggleable__label-arrow:hover:before {color: black;}#sk-container-id-3 div.sk-estimator:hover label.sk-toggleable__label-arrow:before {color: black;}#sk-container-id-3 div.sk-toggleable__content {max-height: 0;max-width: 0;overflow: hidden;text-align: left;background-color: #f0f8ff;}#sk-container-id-3 div.sk-toggleable__content pre {margin: 0.2em;color: black;border-radius: 0.25em;background-color: #f0f8ff;}#sk-container-id-3 input.sk-toggleable__control:checked~div.sk-toggleable__content {max-height: 200px;max-width: 100%;overflow: auto;}#sk-container-id-3 input.sk-toggleable__control:checked~label.sk-toggleable__label-arrow:before {content: \"▾\";}#sk-container-id-3 div.sk-estimator input.sk-toggleable__control:checked~label.sk-toggleable__label {background-color: #d4ebff;}#sk-container-id-3 div.sk-label input.sk-toggleable__control:checked~label.sk-toggleable__label {background-color: #d4ebff;}#sk-container-id-3 input.sk-hidden--visually {border: 0;clip: rect(1px 1px 1px 1px);clip: rect(1px, 1px, 1px, 1px);height: 1px;margin: -1px;overflow: hidden;padding: 0;position: absolute;width: 1px;}#sk-container-id-3 div.sk-estimator {font-family: monospace;background-color: #f0f8ff;border: 1px dotted black;border-radius: 0.25em;box-sizing: border-box;margin-bottom: 0.5em;}#sk-container-id-3 div.sk-estimator:hover {background-color: #d4ebff;}#sk-container-id-3 div.sk-parallel-item::after {content: \"\";width: 100%;border-bottom: 1px solid gray;flex-grow: 1;}#sk-container-id-3 div.sk-label:hover label.sk-toggleable__label {background-color: #d4ebff;}#sk-container-id-3 div.sk-serial::before {content: \"\";position: absolute;border-left: 1px solid gray;box-sizing: border-box;top: 0;bottom: 0;left: 50%;z-index: 0;}#sk-container-id-3 div.sk-serial {display: flex;flex-direction: column;align-items: center;background-color: white;padding-right: 0.2em;padding-left: 0.2em;position: relative;}#sk-container-id-3 div.sk-item {position: relative;z-index: 1;}#sk-container-id-3 div.sk-parallel {display: flex;align-items: stretch;justify-content: center;background-color: white;position: relative;}#sk-container-id-3 div.sk-item::before, #sk-container-id-3 div.sk-parallel-item::before {content: \"\";position: absolute;border-left: 1px solid gray;box-sizing: border-box;top: 0;bottom: 0;left: 50%;z-index: -1;}#sk-container-id-3 div.sk-parallel-item {display: flex;flex-direction: column;z-index: 1;position: relative;background-color: white;}#sk-container-id-3 div.sk-parallel-item:first-child::after {align-self: flex-end;width: 50%;}#sk-container-id-3 div.sk-parallel-item:last-child::after {align-self: flex-start;width: 50%;}#sk-container-id-3 div.sk-parallel-item:only-child::after {width: 0;}#sk-container-id-3 div.sk-dashed-wrapped {border: 1px dashed gray;margin: 0 0.4em 0.5em 0.4em;box-sizing: border-box;padding-bottom: 0.4em;background-color: white;}#sk-container-id-3 div.sk-label label {font-family: monospace;font-weight: bold;display: inline-block;line-height: 1.2em;}#sk-container-id-3 div.sk-label-container {text-align: center;}#sk-container-id-3 div.sk-container {/* jupyter's `normalize.less` sets `[hidden] { display: none; }` but bootstrap.min.css set `[hidden] { display: none !important; }` so we also need the `!important` here to be able to override the default hidden behavior on the sphinx rendered scikit-learn.org. See: https://github.com/scikit-learn/scikit-learn/issues/21755 */display: inline-block !important;position: relative;}#sk-container-id-3 div.sk-text-repr-fallback {display: none;}</style><div id=\"sk-container-id-3\" class=\"sk-top-container\"><div class=\"sk-text-repr-fallback\"><pre>LinearSVC(class_weight=&#x27;balanced&#x27;)</pre><b>In a Jupyter environment, please rerun this cell to show the HTML representation or trust the notebook. <br />On GitHub, the HTML representation is unable to render, please try loading this page with nbviewer.org.</b></div><div class=\"sk-container\" hidden><div class=\"sk-item\"><div class=\"sk-estimator sk-toggleable\"><input class=\"sk-toggleable__control sk-hidden--visually\" id=\"sk-estimator-id-3\" type=\"checkbox\" checked><label for=\"sk-estimator-id-3\" class=\"sk-toggleable__label sk-toggleable__label-arrow\">LinearSVC</label><div class=\"sk-toggleable__content\"><pre>LinearSVC(class_weight=&#x27;balanced&#x27;)</pre></div></div></div></div></div>"
      ],
      "text/plain": [
       "LinearSVC(class_weight='balanced')"
      ]
     },
     "execution_count": 56,
     "metadata": {},
     "output_type": "execute_result"
    }
   ],
   "source": [
    "svc = LinearSVC(class_weight=\"balanced\")\n",
    "svc.fit(x_train, y_train)"
   ]
  },
  {
   "cell_type": "code",
   "execution_count": 57,
   "id": "4b28f774-ff03-415c-953b-ca79544d1078",
   "metadata": {},
   "outputs": [
    {
     "name": "stdout",
     "output_type": "stream",
     "text": [
      "              precision    recall  f1-score   support\n",
      "\n",
      "   Not Fraud       1.00      1.00      1.00     28438\n",
      "       Fraud       0.66      0.72      0.69        43\n",
      "\n",
      "    accuracy                           1.00     28481\n",
      "   macro avg       0.83      0.86      0.84     28481\n",
      "weighted avg       1.00      1.00      1.00     28481\n",
      "\n"
     ]
    }
   ],
   "source": [
    "print(classification_report(y_val, svc.predict(x_val), target_names=[\"Not Fraud\", \"Fraud\"]))"
   ]
  },
  {
   "cell_type": "markdown",
   "id": "59605517-5d24-4a10-8b18-48e8a0661a1c",
   "metadata": {},
   "source": [
    "### Model Classification Overview"
   ]
  },
  {
   "cell_type": "markdown",
   "id": "c6e4a0b0-4a55-4e02-ae9e-63b01d512fd2",
   "metadata": {},
   "source": [
    "| Model          | Class     | Precision | Recall | F1-Score | Accuracy | Support |\n",
    "|----------------|-----------|-----------|--------|----------|----------|---------|\n",
    "| Support Vector | Fraud     | 0.66      | 0.72   | 0.69     | 1.00     | 43      |\n",
    "|                | Not Fraud | 1.00      | 1.00   | 1.00     | 1.00     | 28438   |\n",
    "| Gradient Boost | Fraud     | 0.66      | 0.63   | 0.64     | 1.00     | 43      |\n",
    "|                | Not Fraud | 1.00      | 1.00   | 1.00     | 1.00     | 28438   |\n",
    "| Shallow NN     | Fraud     | 0.61      | 0.65   | 0.63     | 1.00     | 43      |\n",
    "|                | Not Fraud | 1.00      | 1.00   | 1.00     | 1.00     | 28438   |\n",
    "| Logistic Reg.  | Fraud     | 0.79      | 0.51   | 0.62     | 1.00     | 43      |\n",
    "|                | Not Fraud | 1.00      | 1.00   | 1.00     | 1.00     | 28438   |\n",
    "| Random Forest  | Fraud     | 0.74      | 0.47   | 0.57     | 1.00     | 43      |\n",
    "|                | Not Fraud | 1.00      | 1.00   | 1.00     | 1.00     | 28438   |\n"
   ]
  },
  {
   "cell_type": "code",
   "execution_count": null,
   "id": "9a568e74-258f-47cd-8baf-32a6fc4b216c",
   "metadata": {},
   "outputs": [],
   "source": []
  },
  {
   "cell_type": "code",
   "execution_count": null,
   "id": "f5918cf0-0060-4d10-bfcc-ea0948ba8afd",
   "metadata": {},
   "outputs": [],
   "source": []
  },
  {
   "cell_type": "markdown",
   "id": "f825b593-233c-49d7-b0f9-a26671b1274b",
   "metadata": {},
   "source": [
    "# 3. Undersampling"
   ]
  },
  {
   "cell_type": "markdown",
   "id": "fac3b0c2-4198-4708-8907-61bf462553db",
   "metadata": {},
   "source": [
    "The data set is highly imbalanced with fraudulent transactions being significantly rarer than legitimate ones. This imbalance can lead to biased models that favor the majority class and overlook the minority class (fraudulent transactions).\n",
    "\n",
    "By implementing undersampling, we reduce the size of the majority class, balancing the dataset and enhancing the model's ability to detect fraud more accurately and efficiently."
   ]
  },
  {
   "cell_type": "code",
   "execution_count": 62,
   "id": "a052ed31-630d-493a-bd8e-8a182326a418",
   "metadata": {},
   "outputs": [
    {
     "data": {
      "text/plain": [
       "(Class\n",
       " 0    284315\n",
       " Name: count, dtype: int64,\n",
       " Class\n",
       " 1    492\n",
       " Name: count, dtype: int64)"
      ]
     },
     "execution_count": 62,
     "metadata": {},
     "output_type": "execute_result"
    }
   ],
   "source": [
    "not_frauds = new_df.query(\"Class == 0\")\n",
    "frauds = new_df.query(\"Class == 1\")\n",
    "not_frauds[\"Class\"].value_counts(), frauds[\"Class\"].value_counts()"
   ]
  },
  {
   "cell_type": "markdown",
   "id": "746bc726-94c8-456e-816b-c36c86dd40c2",
   "metadata": {},
   "source": [
    "### Train / Test Split (Undersampled Data)"
   ]
  },
  {
   "cell_type": "code",
   "execution_count": 64,
   "id": "4f083930-db34-491e-9816-4b064ba32ced",
   "metadata": {},
   "outputs": [
    {
     "data": {
      "text/plain": [
       "Class\n",
       "1    492\n",
       "0    492\n",
       "Name: count, dtype: int64"
      ]
     },
     "execution_count": 64,
     "metadata": {},
     "output_type": "execute_result"
    }
   ],
   "source": [
    "balanced_df = pd.concat([frauds, not_frauds.sample(len(frauds), random_state=1)])\n",
    "balanced_df[\"Class\"].value_counts()"
   ]
  },
  {
   "cell_type": "code",
   "execution_count": 65,
   "id": "91e56059-5cb5-4071-b699-fefb9a32c860",
   "metadata": {},
   "outputs": [
    {
     "name": "stdout",
     "output_type": "stream",
     "text": [
      "(787, 31) (197, 31)\n"
     ]
    }
   ],
   "source": [
    "train_bal, pre_test_bal = train_test_split(balanced_df, test_size = 0.2, random_state=50)\n",
    "print(train_bal.shape, pre_test_bal.shape)"
   ]
  },
  {
   "cell_type": "code",
   "execution_count": 66,
   "id": "aa47b98e-4b99-4a9e-90b9-31225a460268",
   "metadata": {},
   "outputs": [
    {
     "name": "stdout",
     "output_type": "stream",
     "text": [
      "(98, 31) (99, 31)\n"
     ]
    }
   ],
   "source": [
    "test_bal, val_bal = train_test_split(pre_test_bal, test_size = 0.5, random_state=50)\n",
    "print(test_bal.shape, val_bal.shape)"
   ]
  },
  {
   "cell_type": "code",
   "execution_count": 67,
   "id": "1b9fef5a-e245-46aa-840d-2e8ae4526f00",
   "metadata": {},
   "outputs": [
    {
     "data": {
      "text/plain": [
       "(Class\n",
       " 1    403\n",
       " 0    384\n",
       " Name: count, dtype: int64,\n",
       " Class\n",
       " 0    54\n",
       " 1    44\n",
       " Name: count, dtype: int64,\n",
       " Class\n",
       " 0    54\n",
       " 1    45\n",
       " Name: count, dtype: int64)"
      ]
     },
     "execution_count": 67,
     "metadata": {},
     "output_type": "execute_result"
    }
   ],
   "source": [
    "train_bal[\"Class\"].value_counts(), test_bal[\"Class\"].value_counts(), val_bal[\"Class\"].value_counts()"
   ]
  },
  {
   "cell_type": "code",
   "execution_count": 68,
   "id": "1a36184f-2dc6-48b3-876b-fda5faad58c1",
   "metadata": {},
   "outputs": [],
   "source": [
    "x_train_bal, y_train_bal = train_bal.iloc[:, :-1], train_bal.iloc[:, -1]\n",
    "x_test_bal, y_test_bal = test_bal.iloc[:, :-1], test_bal.iloc[:, -1]\n",
    "x_val_bal, y_val_bal = val_bal.iloc[:, :-1], val_bal.iloc[:, -1]"
   ]
  },
  {
   "cell_type": "markdown",
   "id": "36bcb495-467a-44ad-88e4-b01eb2437770",
   "metadata": {},
   "source": [
    "### Model Fitting & Evaluation (Undersampled Data)"
   ]
  },
  {
   "cell_type": "markdown",
   "id": "1fa83d10-ddf7-4b87-85ac-4a4ce70b71f5",
   "metadata": {},
   "source": [
    "#### Logistic Regression Model"
   ]
  },
  {
   "cell_type": "code",
   "execution_count": 74,
   "id": "5572a239-ee05-483c-a02e-eb739383c294",
   "metadata": {},
   "outputs": [
    {
     "data": {
      "text/plain": [
       "0.9529860228716646"
      ]
     },
     "execution_count": 74,
     "metadata": {},
     "output_type": "execute_result"
    }
   ],
   "source": [
    "logreg_bal = LogisticRegression()\n",
    "logreg_bal.fit(x_train_bal, y_train_bal)\n",
    "# optional: logreg_bal.score(x_train_bal, y_train_bal)"
   ]
  },
  {
   "cell_type": "code",
   "execution_count": 75,
   "id": "e0e92f52-5a84-45cd-958b-ca8ca6eac851",
   "metadata": {},
   "outputs": [
    {
     "name": "stdout",
     "output_type": "stream",
     "text": [
      "              precision    recall  f1-score   support\n",
      "\n",
      "   Not Fraud       0.95      0.96      0.95        54\n",
      "       Fraud       0.95      0.93      0.94        45\n",
      "\n",
      "    accuracy                           0.95        99\n",
      "   macro avg       0.95      0.95      0.95        99\n",
      "weighted avg       0.95      0.95      0.95        99\n",
      "\n"
     ]
    }
   ],
   "source": [
    "print(classification_report(y_val_bal, logreg_bal.predict(x_val_bal), target_names=[\"Not Fraud\", \"Fraud\"]))"
   ]
  },
  {
   "cell_type": "markdown",
   "id": "b99b83c1-77e7-4a79-a76f-a2b254115c4d",
   "metadata": {},
   "source": [
    "#### Shallow Neural Network (1)"
   ]
  },
  {
   "cell_type": "code",
   "execution_count": 76,
   "id": "62cf5ca6-003e-4d76-b142-1510d0e38b6b",
   "metadata": {},
   "outputs": [],
   "source": [
    "shallow_nn_bal =  Sequential()\n",
    "shallow_nn_bal.add(InputLayer((x_train_bal.shape[1],)))\n",
    "shallow_nn_bal.add(Dense(2, \"relu\"))\n",
    "shallow_nn_bal.add(BatchNormalization())\n",
    "shallow_nn_bal.add(Dense(1, \"sigmoid\")) # output probabilitly"
   ]
  },
  {
   "cell_type": "code",
   "execution_count": 77,
   "id": "6e3a70c1-b2ea-4d2d-9149-f5d570a8c1d6",
   "metadata": {},
   "outputs": [],
   "source": [
    "checkpoint_bal = ModelCheckpoint(\"shallow_nn_bal\", save_best_only=True)"
   ]
  },
  {
   "cell_type": "code",
   "execution_count": 78,
   "id": "cf27c81d-7650-41b7-95d3-7d22217877f1",
   "metadata": {},
   "outputs": [],
   "source": [
    "shallow_nn_bal.compile(optimizer=\"adam\", loss = \"binary_crossentropy\", metrics=[\"accuracy\"])"
   ]
  },
  {
   "cell_type": "code",
   "execution_count": 79,
   "id": "547c0f66-e69c-48db-86ec-5b290913eae1",
   "metadata": {
    "scrolled": true
   },
   "outputs": [
    {
     "name": "stdout",
     "output_type": "stream",
     "text": [
      "Epoch 1/40\n",
      " 1/25 [>.............................] - ETA: 7s - loss: 1.1317 - accuracy: 0.2500"
     ]
    },
    {
     "name": "stderr",
     "output_type": "stream",
     "text": [
      "2024-04-11 13:37:17.800254: I tensorflow/core/grappler/optimizers/custom_graph_optimizer_registry.cc:114] Plugin optimizer for device_type GPU is enabled.\n"
     ]
    },
    {
     "name": "stdout",
     "output_type": "stream",
     "text": [
      "25/25 [==============================] - ETA: 0s - loss: 0.7913 - accuracy: 0.5337"
     ]
    },
    {
     "name": "stderr",
     "output_type": "stream",
     "text": [
      "2024-04-11 13:37:18.405570: I tensorflow/core/grappler/optimizers/custom_graph_optimizer_registry.cc:114] Plugin optimizer for device_type GPU is enabled.\n"
     ]
    },
    {
     "name": "stdout",
     "output_type": "stream",
     "text": [
      "INFO:tensorflow:Assets written to: shallow_nn_bal/assets\n"
     ]
    },
    {
     "name": "stderr",
     "output_type": "stream",
     "text": [
      "INFO:tensorflow:Assets written to: shallow_nn_bal/assets\n"
     ]
    },
    {
     "name": "stdout",
     "output_type": "stream",
     "text": [
      "25/25 [==============================] - 1s 34ms/step - loss: 0.7913 - accuracy: 0.5337 - val_loss: 0.7741 - val_accuracy: 0.5758\n",
      "Epoch 2/40\n",
      "25/25 [==============================] - ETA: 0s - loss: 0.7003 - accuracy: 0.6201INFO:tensorflow:Assets written to: shallow_nn_bal/assets\n"
     ]
    },
    {
     "name": "stderr",
     "output_type": "stream",
     "text": [
      "INFO:tensorflow:Assets written to: shallow_nn_bal/assets\n"
     ]
    },
    {
     "name": "stdout",
     "output_type": "stream",
     "text": [
      "25/25 [==============================] - 0s 16ms/step - loss: 0.7003 - accuracy: 0.6201 - val_loss: 0.6300 - val_accuracy: 0.6364\n",
      "Epoch 3/40\n",
      "25/25 [==============================] - ETA: 0s - loss: 0.6373 - accuracy: 0.6760INFO:tensorflow:Assets written to: shallow_nn_bal/assets\n"
     ]
    },
    {
     "name": "stderr",
     "output_type": "stream",
     "text": [
      "INFO:tensorflow:Assets written to: shallow_nn_bal/assets\n"
     ]
    },
    {
     "name": "stdout",
     "output_type": "stream",
     "text": [
      "25/25 [==============================] - 0s 16ms/step - loss: 0.6373 - accuracy: 0.6760 - val_loss: 0.5672 - val_accuracy: 0.6768\n",
      "Epoch 4/40\n",
      "25/25 [==============================] - ETA: 0s - loss: 0.5834 - accuracy: 0.7459INFO:tensorflow:Assets written to: shallow_nn_bal/assets\n"
     ]
    },
    {
     "name": "stderr",
     "output_type": "stream",
     "text": [
      "INFO:tensorflow:Assets written to: shallow_nn_bal/assets\n"
     ]
    },
    {
     "name": "stdout",
     "output_type": "stream",
     "text": [
      "25/25 [==============================] - 0s 15ms/step - loss: 0.5834 - accuracy: 0.7459 - val_loss: 0.5339 - val_accuracy: 0.7374\n",
      "Epoch 5/40\n",
      "25/25 [==============================] - ETA: 0s - loss: 0.5632 - accuracy: 0.7471INFO:tensorflow:Assets written to: shallow_nn_bal/assets\n"
     ]
    },
    {
     "name": "stderr",
     "output_type": "stream",
     "text": [
      "INFO:tensorflow:Assets written to: shallow_nn_bal/assets\n"
     ]
    },
    {
     "name": "stdout",
     "output_type": "stream",
     "text": [
      "25/25 [==============================] - 0s 15ms/step - loss: 0.5632 - accuracy: 0.7471 - val_loss: 0.5105 - val_accuracy: 0.7475\n",
      "Epoch 6/40\n",
      "25/25 [==============================] - ETA: 0s - loss: 0.5363 - accuracy: 0.7827INFO:tensorflow:Assets written to: shallow_nn_bal/assets\n"
     ]
    },
    {
     "name": "stderr",
     "output_type": "stream",
     "text": [
      "INFO:tensorflow:Assets written to: shallow_nn_bal/assets\n"
     ]
    },
    {
     "name": "stdout",
     "output_type": "stream",
     "text": [
      "25/25 [==============================] - 0s 15ms/step - loss: 0.5363 - accuracy: 0.7827 - val_loss: 0.4927 - val_accuracy: 0.7677\n",
      "Epoch 7/40\n",
      "25/25 [==============================] - ETA: 0s - loss: 0.5097 - accuracy: 0.8145INFO:tensorflow:Assets written to: shallow_nn_bal/assets\n"
     ]
    },
    {
     "name": "stderr",
     "output_type": "stream",
     "text": [
      "INFO:tensorflow:Assets written to: shallow_nn_bal/assets\n"
     ]
    },
    {
     "name": "stdout",
     "output_type": "stream",
     "text": [
      "25/25 [==============================] - 0s 15ms/step - loss: 0.5097 - accuracy: 0.8145 - val_loss: 0.4751 - val_accuracy: 0.8283\n",
      "Epoch 8/40\n",
      "25/25 [==============================] - ETA: 0s - loss: 0.4966 - accuracy: 0.8196INFO:tensorflow:Assets written to: shallow_nn_bal/assets\n"
     ]
    },
    {
     "name": "stderr",
     "output_type": "stream",
     "text": [
      "INFO:tensorflow:Assets written to: shallow_nn_bal/assets\n"
     ]
    },
    {
     "name": "stdout",
     "output_type": "stream",
     "text": [
      "25/25 [==============================] - 0s 16ms/step - loss: 0.4966 - accuracy: 0.8196 - val_loss: 0.4618 - val_accuracy: 0.8384\n",
      "Epoch 9/40\n",
      "21/25 [========================>.....] - ETA: 0s - loss: 0.4792 - accuracy: 0.8333INFO:tensorflow:Assets written to: shallow_nn_bal/assets\n"
     ]
    },
    {
     "name": "stderr",
     "output_type": "stream",
     "text": [
      "INFO:tensorflow:Assets written to: shallow_nn_bal/assets\n"
     ]
    },
    {
     "name": "stdout",
     "output_type": "stream",
     "text": [
      "25/25 [==============================] - 0s 17ms/step - loss: 0.4794 - accuracy: 0.8323 - val_loss: 0.4484 - val_accuracy: 0.8687\n",
      "Epoch 10/40\n",
      "24/25 [===========================>..] - ETA: 0s - loss: 0.4627 - accuracy: 0.8451INFO:tensorflow:Assets written to: shallow_nn_bal/assets\n"
     ]
    },
    {
     "name": "stderr",
     "output_type": "stream",
     "text": [
      "INFO:tensorflow:Assets written to: shallow_nn_bal/assets\n"
     ]
    },
    {
     "name": "stdout",
     "output_type": "stream",
     "text": [
      "25/25 [==============================] - 0s 16ms/step - loss: 0.4619 - accuracy: 0.8463 - val_loss: 0.4354 - val_accuracy: 0.8687\n",
      "Epoch 11/40\n",
      "23/25 [==========================>...] - ETA: 0s - loss: 0.4491 - accuracy: 0.8601INFO:tensorflow:Assets written to: shallow_nn_bal/assets\n"
     ]
    },
    {
     "name": "stderr",
     "output_type": "stream",
     "text": [
      "INFO:tensorflow:Assets written to: shallow_nn_bal/assets\n"
     ]
    },
    {
     "name": "stdout",
     "output_type": "stream",
     "text": [
      "25/25 [==============================] - 0s 16ms/step - loss: 0.4484 - accuracy: 0.8590 - val_loss: 0.4221 - val_accuracy: 0.8687\n",
      "Epoch 12/40\n",
      "25/25 [==============================] - ETA: 0s - loss: 0.4329 - accuracy: 0.8755INFO:tensorflow:Assets written to: shallow_nn_bal/assets\n"
     ]
    },
    {
     "name": "stderr",
     "output_type": "stream",
     "text": [
      "INFO:tensorflow:Assets written to: shallow_nn_bal/assets\n"
     ]
    },
    {
     "name": "stdout",
     "output_type": "stream",
     "text": [
      "25/25 [==============================] - 1s 25ms/step - loss: 0.4329 - accuracy: 0.8755 - val_loss: 0.4105 - val_accuracy: 0.8687\n",
      "Epoch 13/40\n",
      "25/25 [==============================] - ETA: 0s - loss: 0.4192 - accuracy: 0.8717INFO:tensorflow:Assets written to: shallow_nn_bal/assets\n"
     ]
    },
    {
     "name": "stderr",
     "output_type": "stream",
     "text": [
      "INFO:tensorflow:Assets written to: shallow_nn_bal/assets\n"
     ]
    },
    {
     "name": "stdout",
     "output_type": "stream",
     "text": [
      "25/25 [==============================] - 0s 15ms/step - loss: 0.4192 - accuracy: 0.8717 - val_loss: 0.4002 - val_accuracy: 0.8687\n",
      "Epoch 14/40\n",
      "24/25 [===========================>..] - ETA: 0s - loss: 0.4048 - accuracy: 0.8737INFO:tensorflow:Assets written to: shallow_nn_bal/assets\n"
     ]
    },
    {
     "name": "stderr",
     "output_type": "stream",
     "text": [
      "INFO:tensorflow:Assets written to: shallow_nn_bal/assets\n"
     ]
    },
    {
     "name": "stdout",
     "output_type": "stream",
     "text": [
      "25/25 [==============================] - 0s 16ms/step - loss: 0.4047 - accuracy: 0.8742 - val_loss: 0.3920 - val_accuracy: 0.8687\n",
      "Epoch 15/40\n",
      "25/25 [==============================] - ETA: 0s - loss: 0.3871 - accuracy: 0.8856INFO:tensorflow:Assets written to: shallow_nn_bal/assets\n"
     ]
    },
    {
     "name": "stderr",
     "output_type": "stream",
     "text": [
      "INFO:tensorflow:Assets written to: shallow_nn_bal/assets\n"
     ]
    },
    {
     "name": "stdout",
     "output_type": "stream",
     "text": [
      "25/25 [==============================] - 0s 15ms/step - loss: 0.3871 - accuracy: 0.8856 - val_loss: 0.3801 - val_accuracy: 0.8687\n",
      "Epoch 16/40\n",
      "17/25 [===================>..........] - ETA: 0s - loss: 0.3861 - accuracy: 0.8860INFO:tensorflow:Assets written to: shallow_nn_bal/assets\n"
     ]
    },
    {
     "name": "stderr",
     "output_type": "stream",
     "text": [
      "INFO:tensorflow:Assets written to: shallow_nn_bal/assets\n"
     ]
    },
    {
     "name": "stdout",
     "output_type": "stream",
     "text": [
      "25/25 [==============================] - 0s 16ms/step - loss: 0.3808 - accuracy: 0.8882 - val_loss: 0.3716 - val_accuracy: 0.8687\n",
      "Epoch 17/40\n",
      "21/25 [========================>.....] - ETA: 0s - loss: 0.3656 - accuracy: 0.8824INFO:tensorflow:Assets written to: shallow_nn_bal/assets\n"
     ]
    },
    {
     "name": "stderr",
     "output_type": "stream",
     "text": [
      "INFO:tensorflow:Assets written to: shallow_nn_bal/assets\n"
     ]
    },
    {
     "name": "stdout",
     "output_type": "stream",
     "text": [
      "25/25 [==============================] - 0s 18ms/step - loss: 0.3662 - accuracy: 0.8818 - val_loss: 0.3627 - val_accuracy: 0.8687\n",
      "Epoch 18/40\n",
      "25/25 [==============================] - ETA: 0s - loss: 0.3583 - accuracy: 0.8895INFO:tensorflow:Assets written to: shallow_nn_bal/assets\n"
     ]
    },
    {
     "name": "stderr",
     "output_type": "stream",
     "text": [
      "INFO:tensorflow:Assets written to: shallow_nn_bal/assets\n"
     ]
    },
    {
     "name": "stdout",
     "output_type": "stream",
     "text": [
      "25/25 [==============================] - 0s 16ms/step - loss: 0.3583 - accuracy: 0.8895 - val_loss: 0.3553 - val_accuracy: 0.8687\n",
      "Epoch 19/40\n",
      "24/25 [===========================>..] - ETA: 0s - loss: 0.3507 - accuracy: 0.8984INFO:tensorflow:Assets written to: shallow_nn_bal/assets\n"
     ]
    },
    {
     "name": "stderr",
     "output_type": "stream",
     "text": [
      "INFO:tensorflow:Assets written to: shallow_nn_bal/assets\n"
     ]
    },
    {
     "name": "stdout",
     "output_type": "stream",
     "text": [
      "25/25 [==============================] - 0s 16ms/step - loss: 0.3503 - accuracy: 0.8971 - val_loss: 0.3476 - val_accuracy: 0.8788\n",
      "Epoch 20/40\n",
      "24/25 [===========================>..] - ETA: 0s - loss: 0.3346 - accuracy: 0.9023INFO:tensorflow:Assets written to: shallow_nn_bal/assets\n"
     ]
    },
    {
     "name": "stderr",
     "output_type": "stream",
     "text": [
      "INFO:tensorflow:Assets written to: shallow_nn_bal/assets\n"
     ]
    },
    {
     "name": "stdout",
     "output_type": "stream",
     "text": [
      "25/25 [==============================] - 0s 17ms/step - loss: 0.3330 - accuracy: 0.9034 - val_loss: 0.3394 - val_accuracy: 0.8788\n",
      "Epoch 21/40\n",
      "25/25 [==============================] - ETA: 0s - loss: 0.3253 - accuracy: 0.9085INFO:tensorflow:Assets written to: shallow_nn_bal/assets\n"
     ]
    },
    {
     "name": "stderr",
     "output_type": "stream",
     "text": [
      "INFO:tensorflow:Assets written to: shallow_nn_bal/assets\n"
     ]
    },
    {
     "name": "stdout",
     "output_type": "stream",
     "text": [
      "25/25 [==============================] - 0s 16ms/step - loss: 0.3253 - accuracy: 0.9085 - val_loss: 0.3325 - val_accuracy: 0.8788\n",
      "Epoch 22/40\n",
      "25/25 [==============================] - ETA: 0s - loss: 0.3230 - accuracy: 0.9022INFO:tensorflow:Assets written to: shallow_nn_bal/assets\n"
     ]
    },
    {
     "name": "stderr",
     "output_type": "stream",
     "text": [
      "INFO:tensorflow:Assets written to: shallow_nn_bal/assets\n"
     ]
    },
    {
     "name": "stdout",
     "output_type": "stream",
     "text": [
      "25/25 [==============================] - 0s 16ms/step - loss: 0.3230 - accuracy: 0.9022 - val_loss: 0.3250 - val_accuracy: 0.8788\n",
      "Epoch 23/40\n",
      "25/25 [==============================] - ETA: 0s - loss: 0.3079 - accuracy: 0.9123INFO:tensorflow:Assets written to: shallow_nn_bal/assets\n"
     ]
    },
    {
     "name": "stderr",
     "output_type": "stream",
     "text": [
      "INFO:tensorflow:Assets written to: shallow_nn_bal/assets\n"
     ]
    },
    {
     "name": "stdout",
     "output_type": "stream",
     "text": [
      "25/25 [==============================] - 0s 16ms/step - loss: 0.3079 - accuracy: 0.9123 - val_loss: 0.3188 - val_accuracy: 0.8788\n",
      "Epoch 24/40\n",
      "24/25 [===========================>..] - ETA: 0s - loss: 0.3035 - accuracy: 0.9089INFO:tensorflow:Assets written to: shallow_nn_bal/assets\n"
     ]
    },
    {
     "name": "stderr",
     "output_type": "stream",
     "text": [
      "INFO:tensorflow:Assets written to: shallow_nn_bal/assets\n"
     ]
    },
    {
     "name": "stdout",
     "output_type": "stream",
     "text": [
      "25/25 [==============================] - 0s 16ms/step - loss: 0.3023 - accuracy: 0.9098 - val_loss: 0.3140 - val_accuracy: 0.8788\n",
      "Epoch 25/40\n",
      "25/25 [==============================] - ETA: 0s - loss: 0.2960 - accuracy: 0.9085INFO:tensorflow:Assets written to: shallow_nn_bal/assets\n"
     ]
    },
    {
     "name": "stderr",
     "output_type": "stream",
     "text": [
      "INFO:tensorflow:Assets written to: shallow_nn_bal/assets\n"
     ]
    },
    {
     "name": "stdout",
     "output_type": "stream",
     "text": [
      "25/25 [==============================] - 0s 16ms/step - loss: 0.2960 - accuracy: 0.9085 - val_loss: 0.3094 - val_accuracy: 0.8788\n",
      "Epoch 26/40\n",
      "25/25 [==============================] - ETA: 0s - loss: 0.2980 - accuracy: 0.9098INFO:tensorflow:Assets written to: shallow_nn_bal/assets\n"
     ]
    },
    {
     "name": "stderr",
     "output_type": "stream",
     "text": [
      "INFO:tensorflow:Assets written to: shallow_nn_bal/assets\n"
     ]
    },
    {
     "name": "stdout",
     "output_type": "stream",
     "text": [
      "25/25 [==============================] - 0s 16ms/step - loss: 0.2980 - accuracy: 0.9098 - val_loss: 0.3063 - val_accuracy: 0.8788\n",
      "Epoch 27/40\n",
      "25/25 [==============================] - ETA: 0s - loss: 0.2897 - accuracy: 0.9123INFO:tensorflow:Assets written to: shallow_nn_bal/assets\n"
     ]
    },
    {
     "name": "stderr",
     "output_type": "stream",
     "text": [
      "INFO:tensorflow:Assets written to: shallow_nn_bal/assets\n"
     ]
    },
    {
     "name": "stdout",
     "output_type": "stream",
     "text": [
      "25/25 [==============================] - 0s 16ms/step - loss: 0.2897 - accuracy: 0.9123 - val_loss: 0.3013 - val_accuracy: 0.8788\n",
      "Epoch 28/40\n",
      "23/25 [==========================>...] - ETA: 0s - loss: 0.2868 - accuracy: 0.9130INFO:tensorflow:Assets written to: shallow_nn_bal/assets\n"
     ]
    },
    {
     "name": "stderr",
     "output_type": "stream",
     "text": [
      "INFO:tensorflow:Assets written to: shallow_nn_bal/assets\n"
     ]
    },
    {
     "name": "stdout",
     "output_type": "stream",
     "text": [
      "25/25 [==============================] - 0s 16ms/step - loss: 0.2844 - accuracy: 0.9161 - val_loss: 0.2976 - val_accuracy: 0.8788\n",
      "Epoch 29/40\n",
      "18/25 [====================>.........] - ETA: 0s - loss: 0.2860 - accuracy: 0.9062INFO:tensorflow:Assets written to: shallow_nn_bal/assets\n"
     ]
    },
    {
     "name": "stderr",
     "output_type": "stream",
     "text": [
      "INFO:tensorflow:Assets written to: shallow_nn_bal/assets\n"
     ]
    },
    {
     "name": "stdout",
     "output_type": "stream",
     "text": [
      "25/25 [==============================] - 0s 15ms/step - loss: 0.2807 - accuracy: 0.9098 - val_loss: 0.2903 - val_accuracy: 0.8788\n",
      "Epoch 30/40\n",
      "18/25 [====================>.........] - ETA: 0s - loss: 0.2692 - accuracy: 0.9184INFO:tensorflow:Assets written to: shallow_nn_bal/assets\n"
     ]
    },
    {
     "name": "stderr",
     "output_type": "stream",
     "text": [
      "INFO:tensorflow:Assets written to: shallow_nn_bal/assets\n"
     ]
    },
    {
     "name": "stdout",
     "output_type": "stream",
     "text": [
      "25/25 [==============================] - 0s 15ms/step - loss: 0.2697 - accuracy: 0.9174 - val_loss: 0.2854 - val_accuracy: 0.8788\n",
      "Epoch 31/40\n",
      "25/25 [==============================] - ETA: 0s - loss: 0.2671 - accuracy: 0.9161INFO:tensorflow:Assets written to: shallow_nn_bal/assets\n"
     ]
    },
    {
     "name": "stderr",
     "output_type": "stream",
     "text": [
      "INFO:tensorflow:Assets written to: shallow_nn_bal/assets\n"
     ]
    },
    {
     "name": "stdout",
     "output_type": "stream",
     "text": [
      "25/25 [==============================] - 0s 15ms/step - loss: 0.2671 - accuracy: 0.9161 - val_loss: 0.2838 - val_accuracy: 0.8788\n",
      "Epoch 32/40\n",
      "18/25 [====================>.........] - ETA: 0s - loss: 0.2638 - accuracy: 0.9149INFO:tensorflow:Assets written to: shallow_nn_bal/assets\n"
     ]
    },
    {
     "name": "stderr",
     "output_type": "stream",
     "text": [
      "INFO:tensorflow:Assets written to: shallow_nn_bal/assets\n"
     ]
    },
    {
     "name": "stdout",
     "output_type": "stream",
     "text": [
      "25/25 [==============================] - 0s 17ms/step - loss: 0.2668 - accuracy: 0.9123 - val_loss: 0.2793 - val_accuracy: 0.8788\n",
      "Epoch 33/40\n",
      "25/25 [==============================] - ETA: 0s - loss: 0.2658 - accuracy: 0.9187INFO:tensorflow:Assets written to: shallow_nn_bal/assets\n"
     ]
    },
    {
     "name": "stderr",
     "output_type": "stream",
     "text": [
      "INFO:tensorflow:Assets written to: shallow_nn_bal/assets\n"
     ]
    },
    {
     "name": "stdout",
     "output_type": "stream",
     "text": [
      "25/25 [==============================] - 0s 15ms/step - loss: 0.2658 - accuracy: 0.9187 - val_loss: 0.2756 - val_accuracy: 0.8889\n",
      "Epoch 34/40\n",
      "25/25 [==============================] - ETA: 0s - loss: 0.2590 - accuracy: 0.9174INFO:tensorflow:Assets written to: shallow_nn_bal/assets\n"
     ]
    },
    {
     "name": "stderr",
     "output_type": "stream",
     "text": [
      "INFO:tensorflow:Assets written to: shallow_nn_bal/assets\n"
     ]
    },
    {
     "name": "stdout",
     "output_type": "stream",
     "text": [
      "25/25 [==============================] - 0s 20ms/step - loss: 0.2590 - accuracy: 0.9174 - val_loss: 0.2726 - val_accuracy: 0.8889\n",
      "Epoch 35/40\n",
      "25/25 [==============================] - ETA: 0s - loss: 0.2545 - accuracy: 0.9136INFO:tensorflow:Assets written to: shallow_nn_bal/assets\n"
     ]
    },
    {
     "name": "stderr",
     "output_type": "stream",
     "text": [
      "INFO:tensorflow:Assets written to: shallow_nn_bal/assets\n"
     ]
    },
    {
     "name": "stdout",
     "output_type": "stream",
     "text": [
      "25/25 [==============================] - 0s 16ms/step - loss: 0.2545 - accuracy: 0.9136 - val_loss: 0.2700 - val_accuracy: 0.8889\n",
      "Epoch 36/40\n",
      "25/25 [==============================] - ETA: 0s - loss: 0.2461 - accuracy: 0.9263INFO:tensorflow:Assets written to: shallow_nn_bal/assets\n"
     ]
    },
    {
     "name": "stderr",
     "output_type": "stream",
     "text": [
      "INFO:tensorflow:Assets written to: shallow_nn_bal/assets\n"
     ]
    },
    {
     "name": "stdout",
     "output_type": "stream",
     "text": [
      "25/25 [==============================] - 0s 17ms/step - loss: 0.2461 - accuracy: 0.9263 - val_loss: 0.2650 - val_accuracy: 0.8889\n",
      "Epoch 37/40\n",
      "25/25 [==============================] - ETA: 0s - loss: 0.2457 - accuracy: 0.9161INFO:tensorflow:Assets written to: shallow_nn_bal/assets\n"
     ]
    },
    {
     "name": "stderr",
     "output_type": "stream",
     "text": [
      "INFO:tensorflow:Assets written to: shallow_nn_bal/assets\n"
     ]
    },
    {
     "name": "stdout",
     "output_type": "stream",
     "text": [
      "25/25 [==============================] - 0s 16ms/step - loss: 0.2457 - accuracy: 0.9161 - val_loss: 0.2626 - val_accuracy: 0.8889\n",
      "Epoch 38/40\n",
      "23/25 [==========================>...] - ETA: 0s - loss: 0.2466 - accuracy: 0.9266INFO:tensorflow:Assets written to: shallow_nn_bal/assets\n"
     ]
    },
    {
     "name": "stderr",
     "output_type": "stream",
     "text": [
      "INFO:tensorflow:Assets written to: shallow_nn_bal/assets\n"
     ]
    },
    {
     "name": "stdout",
     "output_type": "stream",
     "text": [
      "25/25 [==============================] - 0s 16ms/step - loss: 0.2480 - accuracy: 0.9250 - val_loss: 0.2596 - val_accuracy: 0.8889\n",
      "Epoch 39/40\n",
      "25/25 [==============================] - ETA: 0s - loss: 0.2497 - accuracy: 0.9161INFO:tensorflow:Assets written to: shallow_nn_bal/assets\n"
     ]
    },
    {
     "name": "stderr",
     "output_type": "stream",
     "text": [
      "INFO:tensorflow:Assets written to: shallow_nn_bal/assets\n"
     ]
    },
    {
     "name": "stdout",
     "output_type": "stream",
     "text": [
      "25/25 [==============================] - 1s 28ms/step - loss: 0.2497 - accuracy: 0.9161 - val_loss: 0.2596 - val_accuracy: 0.8889\n",
      "Epoch 40/40\n",
      "23/25 [==========================>...] - ETA: 0s - loss: 0.2577 - accuracy: 0.9130INFO:tensorflow:Assets written to: shallow_nn_bal/assets\n"
     ]
    },
    {
     "name": "stderr",
     "output_type": "stream",
     "text": [
      "INFO:tensorflow:Assets written to: shallow_nn_bal/assets\n"
     ]
    },
    {
     "name": "stdout",
     "output_type": "stream",
     "text": [
      "25/25 [==============================] - 0s 18ms/step - loss: 0.2487 - accuracy: 0.9187 - val_loss: 0.2566 - val_accuracy: 0.8889\n"
     ]
    },
    {
     "data": {
      "text/plain": [
       "<keras.src.callbacks.History at 0x2e2777c10>"
      ]
     },
     "execution_count": 79,
     "metadata": {},
     "output_type": "execute_result"
    }
   ],
   "source": [
    "shallow_nn_bal.fit(x_train_bal, y_train_bal, validation_data=(x_val_bal, y_val_bal), epochs=40, callbacks=checkpoint_bal, batch_size=32)"
   ]
  },
  {
   "cell_type": "code",
   "execution_count": 86,
   "id": "d31aba64-a6c6-4c68-ab6e-840b3f7b2651",
   "metadata": {},
   "outputs": [
    {
     "name": "stdout",
     "output_type": "stream",
     "text": [
      "4/4 [==============================] - 0s 3ms/step\n",
      "              precision    recall  f1-score   support\n",
      "\n",
      "   Not Fraud       0.83      1.00      0.91        54\n",
      "       Fraud       1.00      0.76      0.86        45\n",
      "\n",
      "    accuracy                           0.89        99\n",
      "   macro avg       0.92      0.88      0.88        99\n",
      "weighted avg       0.91      0.89      0.89        99\n",
      "\n"
     ]
    }
   ],
   "source": [
    "# use function for predicting & reporting classification of shallow neural networks\n",
    "neural_net_predictions(shallow_nn_bal, x_val_bal, y_val_bal)"
   ]
  },
  {
   "cell_type": "markdown",
   "id": "ab51d1fd-58b8-4742-a98a-ed1a7de9bc8a",
   "metadata": {},
   "source": [
    "#### Shallow Neural Network (2)"
   ]
  },
  {
   "cell_type": "code",
   "execution_count": 87,
   "id": "d92f121d-637d-4e4c-a277-6c16f5bbfa69",
   "metadata": {},
   "outputs": [],
   "source": [
    "shallow_nn_bal_2 =  Sequential()\n",
    "shallow_nn_bal_2 .add(InputLayer((x_train_bal.shape[1],)))\n",
    "shallow_nn_bal_2 .add(Dense(1, \"relu\"))\n",
    "shallow_nn_bal_2 .add(BatchNormalization())\n",
    "shallow_nn_bal_2 .add(Dense(1, \"sigmoid\")) # output probabilitly"
   ]
  },
  {
   "cell_type": "code",
   "execution_count": 88,
   "id": "3e3d40c1-43df-4270-9118-bc6e594a4190",
   "metadata": {},
   "outputs": [],
   "source": [
    "checkpoint_bal_2 = ModelCheckpoint(\"shallow_nn_bal_2 \", save_best_only=True)"
   ]
  },
  {
   "cell_type": "code",
   "execution_count": 89,
   "id": "6ac46a0b-50e1-4d36-a12c-a08ed9253fd4",
   "metadata": {},
   "outputs": [],
   "source": [
    "shallow_nn_bal_2 .compile(optimizer=\"adam\", loss = \"binary_crossentropy\", metrics=[\"accuracy\"])"
   ]
  },
  {
   "cell_type": "code",
   "execution_count": 90,
   "id": "f79b2056-e98c-48a1-88f7-ac6a9caab538",
   "metadata": {},
   "outputs": [
    {
     "name": "stdout",
     "output_type": "stream",
     "text": [
      "Epoch 1/40\n"
     ]
    },
    {
     "name": "stderr",
     "output_type": "stream",
     "text": [
      "2024-04-11 13:50:24.470498: I tensorflow/core/grappler/optimizers/custom_graph_optimizer_registry.cc:114] Plugin optimizer for device_type GPU is enabled.\n"
     ]
    },
    {
     "name": "stdout",
     "output_type": "stream",
     "text": [
      "25/25 [==============================] - 2s 25ms/step - loss: 0.7733 - accuracy: 0.4307 - val_loss: 0.6728 - val_accuracy: 0.5657\n",
      "Epoch 2/40\n",
      " 9/25 [=========>....................] - ETA: 0s - loss: 0.7192 - accuracy: 0.5035"
     ]
    },
    {
     "name": "stderr",
     "output_type": "stream",
     "text": [
      "2024-04-11 13:50:25.889237: I tensorflow/core/grappler/optimizers/custom_graph_optimizer_registry.cc:114] Plugin optimizer for device_type GPU is enabled.\n"
     ]
    },
    {
     "name": "stdout",
     "output_type": "stream",
     "text": [
      "25/25 [==============================] - 0s 8ms/step - loss: 0.6842 - accuracy: 0.5464 - val_loss: 0.6012 - val_accuracy: 0.6566\n",
      "Epoch 3/40\n",
      "25/25 [==============================] - 0s 9ms/step - loss: 0.6373 - accuracy: 0.6493 - val_loss: 0.5706 - val_accuracy: 0.6869\n",
      "Epoch 4/40\n",
      "25/25 [==============================] - 0s 8ms/step - loss: 0.6192 - accuracy: 0.6773 - val_loss: 0.5526 - val_accuracy: 0.7071\n",
      "Epoch 5/40\n",
      "25/25 [==============================] - 0s 8ms/step - loss: 0.5921 - accuracy: 0.7408 - val_loss: 0.5403 - val_accuracy: 0.7273\n",
      "Epoch 6/40\n",
      "25/25 [==============================] - 0s 10ms/step - loss: 0.5803 - accuracy: 0.7548 - val_loss: 0.5292 - val_accuracy: 0.7576\n",
      "Epoch 7/40\n",
      "25/25 [==============================] - 0s 8ms/step - loss: 0.5695 - accuracy: 0.7675 - val_loss: 0.5192 - val_accuracy: 0.7879\n",
      "Epoch 8/40\n",
      "25/25 [==============================] - 0s 8ms/step - loss: 0.5567 - accuracy: 0.7764 - val_loss: 0.5092 - val_accuracy: 0.8384\n",
      "Epoch 9/40\n",
      "25/25 [==============================] - 0s 9ms/step - loss: 0.5429 - accuracy: 0.7954 - val_loss: 0.5006 - val_accuracy: 0.8485\n",
      "Epoch 10/40\n",
      "25/25 [==============================] - 0s 8ms/step - loss: 0.5313 - accuracy: 0.8018 - val_loss: 0.4903 - val_accuracy: 0.8687\n",
      "Epoch 11/40\n",
      "25/25 [==============================] - 0s 8ms/step - loss: 0.5161 - accuracy: 0.8183 - val_loss: 0.4803 - val_accuracy: 0.8687\n",
      "Epoch 12/40\n",
      "25/25 [==============================] - 0s 8ms/step - loss: 0.5103 - accuracy: 0.8234 - val_loss: 0.4705 - val_accuracy: 0.8788\n",
      "Epoch 13/40\n",
      "25/25 [==============================] - 0s 8ms/step - loss: 0.4945 - accuracy: 0.8348 - val_loss: 0.4608 - val_accuracy: 0.8788\n",
      "Epoch 14/40\n",
      "25/25 [==============================] - 0s 10ms/step - loss: 0.4821 - accuracy: 0.8374 - val_loss: 0.4514 - val_accuracy: 0.8788\n",
      "Epoch 15/40\n",
      "25/25 [==============================] - 0s 8ms/step - loss: 0.4681 - accuracy: 0.8577 - val_loss: 0.4429 - val_accuracy: 0.8889\n",
      "Epoch 16/40\n",
      "25/25 [==============================] - 0s 8ms/step - loss: 0.4512 - accuracy: 0.8501 - val_loss: 0.4344 - val_accuracy: 0.8889\n",
      "Epoch 17/40\n",
      "25/25 [==============================] - 0s 8ms/step - loss: 0.4473 - accuracy: 0.8463 - val_loss: 0.4250 - val_accuracy: 0.8788\n",
      "Epoch 18/40\n",
      "25/25 [==============================] - 0s 8ms/step - loss: 0.4390 - accuracy: 0.8653 - val_loss: 0.4175 - val_accuracy: 0.8788\n",
      "Epoch 19/40\n",
      "25/25 [==============================] - 0s 8ms/step - loss: 0.4258 - accuracy: 0.8704 - val_loss: 0.4095 - val_accuracy: 0.8788\n",
      "Epoch 20/40\n",
      "25/25 [==============================] - 0s 8ms/step - loss: 0.4216 - accuracy: 0.8691 - val_loss: 0.4009 - val_accuracy: 0.8788\n",
      "Epoch 21/40\n",
      "25/25 [==============================] - 0s 8ms/step - loss: 0.4030 - accuracy: 0.8767 - val_loss: 0.3939 - val_accuracy: 0.8788\n",
      "Epoch 22/40\n",
      "25/25 [==============================] - 0s 8ms/step - loss: 0.3894 - accuracy: 0.8755 - val_loss: 0.3866 - val_accuracy: 0.8788\n",
      "Epoch 23/40\n",
      "25/25 [==============================] - 0s 8ms/step - loss: 0.3884 - accuracy: 0.8653 - val_loss: 0.3791 - val_accuracy: 0.8788\n",
      "Epoch 24/40\n",
      "25/25 [==============================] - 0s 8ms/step - loss: 0.3691 - accuracy: 0.8856 - val_loss: 0.3726 - val_accuracy: 0.8788\n",
      "Epoch 25/40\n",
      "25/25 [==============================] - 0s 8ms/step - loss: 0.3595 - accuracy: 0.8907 - val_loss: 0.3655 - val_accuracy: 0.8788\n",
      "Epoch 26/40\n",
      "25/25 [==============================] - 0s 8ms/step - loss: 0.3519 - accuracy: 0.9009 - val_loss: 0.3592 - val_accuracy: 0.8788\n",
      "Epoch 27/40\n",
      "25/25 [==============================] - 0s 8ms/step - loss: 0.3448 - accuracy: 0.8882 - val_loss: 0.3533 - val_accuracy: 0.8788\n",
      "Epoch 28/40\n",
      "25/25 [==============================] - 0s 8ms/step - loss: 0.3366 - accuracy: 0.8958 - val_loss: 0.3458 - val_accuracy: 0.8687\n",
      "Epoch 29/40\n",
      "25/25 [==============================] - 0s 8ms/step - loss: 0.3173 - accuracy: 0.9060 - val_loss: 0.3387 - val_accuracy: 0.8687\n",
      "Epoch 30/40\n",
      "25/25 [==============================] - 0s 8ms/step - loss: 0.3068 - accuracy: 0.9149 - val_loss: 0.3321 - val_accuracy: 0.8687\n",
      "Epoch 31/40\n",
      "25/25 [==============================] - 0s 8ms/step - loss: 0.3074 - accuracy: 0.9060 - val_loss: 0.3247 - val_accuracy: 0.8687\n",
      "Epoch 32/40\n",
      "25/25 [==============================] - 0s 8ms/step - loss: 0.2973 - accuracy: 0.9098 - val_loss: 0.3184 - val_accuracy: 0.8687\n",
      "Epoch 33/40\n",
      "25/25 [==============================] - 0s 8ms/step - loss: 0.2954 - accuracy: 0.9123 - val_loss: 0.3097 - val_accuracy: 0.8687\n",
      "Epoch 34/40\n",
      "25/25 [==============================] - 0s 8ms/step - loss: 0.2942 - accuracy: 0.9123 - val_loss: 0.3021 - val_accuracy: 0.8687\n",
      "Epoch 35/40\n",
      "25/25 [==============================] - 0s 8ms/step - loss: 0.2877 - accuracy: 0.9098 - val_loss: 0.2952 - val_accuracy: 0.8687\n",
      "Epoch 36/40\n",
      "25/25 [==============================] - 0s 8ms/step - loss: 0.2800 - accuracy: 0.9085 - val_loss: 0.2874 - val_accuracy: 0.8687\n",
      "Epoch 37/40\n",
      "25/25 [==============================] - 0s 8ms/step - loss: 0.2853 - accuracy: 0.9047 - val_loss: 0.2824 - val_accuracy: 0.8687\n",
      "Epoch 38/40\n",
      "25/25 [==============================] - 0s 8ms/step - loss: 0.2707 - accuracy: 0.9098 - val_loss: 0.2777 - val_accuracy: 0.8687\n",
      "Epoch 39/40\n",
      "25/25 [==============================] - 0s 8ms/step - loss: 0.2656 - accuracy: 0.9136 - val_loss: 0.2741 - val_accuracy: 0.8687\n",
      "Epoch 40/40\n",
      "25/25 [==============================] - 0s 8ms/step - loss: 0.2605 - accuracy: 0.9263 - val_loss: 0.2698 - val_accuracy: 0.8788\n"
     ]
    },
    {
     "data": {
      "text/plain": [
       "<keras.src.callbacks.History at 0x2e1838b20>"
      ]
     },
     "execution_count": 90,
     "metadata": {},
     "output_type": "execute_result"
    }
   ],
   "source": [
    "shallow_nn_bal_2 .fit(x_train_bal, y_train_bal, validation_data=(x_val_bal, y_val_bal), epochs=40, callbacks=checkpoint_bal, batch_size=32)"
   ]
  },
  {
   "cell_type": "code",
   "execution_count": 91,
   "id": "578a41d3-c041-45b6-b9f4-bed2beb3950f",
   "metadata": {},
   "outputs": [
    {
     "name": "stdout",
     "output_type": "stream",
     "text": [
      "4/4 [==============================] - 0s 4ms/step\n",
      "              precision    recall  f1-score   support\n",
      "\n",
      "   Not Fraud       0.84      0.96      0.90        54\n",
      "       Fraud       0.95      0.78      0.85        45\n",
      "\n",
      "    accuracy                           0.88        99\n",
      "   macro avg       0.89      0.87      0.88        99\n",
      "weighted avg       0.89      0.88      0.88        99\n",
      "\n"
     ]
    },
    {
     "name": "stderr",
     "output_type": "stream",
     "text": [
      "2024-04-11 13:50:39.293906: I tensorflow/core/grappler/optimizers/custom_graph_optimizer_registry.cc:114] Plugin optimizer for device_type GPU is enabled.\n"
     ]
    }
   ],
   "source": [
    "# use function for predicting & reporting classification of shallow neural networks\n",
    "neural_net_predictions(shallow_nn_bal_2 , x_val_bal, y_val_bal)"
   ]
  },
  {
   "cell_type": "markdown",
   "id": "ed9ff82e-162f-4f85-aec0-03121ecbb836",
   "metadata": {},
   "source": [
    "#### Random Forest Classifier"
   ]
  },
  {
   "cell_type": "code",
   "execution_count": 92,
   "id": "c7d9b9f4-a16a-4e8f-bbec-4b41ff9f211e",
   "metadata": {},
   "outputs": [
    {
     "data": {
      "text/html": [
       "<style>#sk-container-id-4 {color: black;}#sk-container-id-4 pre{padding: 0;}#sk-container-id-4 div.sk-toggleable {background-color: white;}#sk-container-id-4 label.sk-toggleable__label {cursor: pointer;display: block;width: 100%;margin-bottom: 0;padding: 0.3em;box-sizing: border-box;text-align: center;}#sk-container-id-4 label.sk-toggleable__label-arrow:before {content: \"▸\";float: left;margin-right: 0.25em;color: #696969;}#sk-container-id-4 label.sk-toggleable__label-arrow:hover:before {color: black;}#sk-container-id-4 div.sk-estimator:hover label.sk-toggleable__label-arrow:before {color: black;}#sk-container-id-4 div.sk-toggleable__content {max-height: 0;max-width: 0;overflow: hidden;text-align: left;background-color: #f0f8ff;}#sk-container-id-4 div.sk-toggleable__content pre {margin: 0.2em;color: black;border-radius: 0.25em;background-color: #f0f8ff;}#sk-container-id-4 input.sk-toggleable__control:checked~div.sk-toggleable__content {max-height: 200px;max-width: 100%;overflow: auto;}#sk-container-id-4 input.sk-toggleable__control:checked~label.sk-toggleable__label-arrow:before {content: \"▾\";}#sk-container-id-4 div.sk-estimator input.sk-toggleable__control:checked~label.sk-toggleable__label {background-color: #d4ebff;}#sk-container-id-4 div.sk-label input.sk-toggleable__control:checked~label.sk-toggleable__label {background-color: #d4ebff;}#sk-container-id-4 input.sk-hidden--visually {border: 0;clip: rect(1px 1px 1px 1px);clip: rect(1px, 1px, 1px, 1px);height: 1px;margin: -1px;overflow: hidden;padding: 0;position: absolute;width: 1px;}#sk-container-id-4 div.sk-estimator {font-family: monospace;background-color: #f0f8ff;border: 1px dotted black;border-radius: 0.25em;box-sizing: border-box;margin-bottom: 0.5em;}#sk-container-id-4 div.sk-estimator:hover {background-color: #d4ebff;}#sk-container-id-4 div.sk-parallel-item::after {content: \"\";width: 100%;border-bottom: 1px solid gray;flex-grow: 1;}#sk-container-id-4 div.sk-label:hover label.sk-toggleable__label {background-color: #d4ebff;}#sk-container-id-4 div.sk-serial::before {content: \"\";position: absolute;border-left: 1px solid gray;box-sizing: border-box;top: 0;bottom: 0;left: 50%;z-index: 0;}#sk-container-id-4 div.sk-serial {display: flex;flex-direction: column;align-items: center;background-color: white;padding-right: 0.2em;padding-left: 0.2em;position: relative;}#sk-container-id-4 div.sk-item {position: relative;z-index: 1;}#sk-container-id-4 div.sk-parallel {display: flex;align-items: stretch;justify-content: center;background-color: white;position: relative;}#sk-container-id-4 div.sk-item::before, #sk-container-id-4 div.sk-parallel-item::before {content: \"\";position: absolute;border-left: 1px solid gray;box-sizing: border-box;top: 0;bottom: 0;left: 50%;z-index: -1;}#sk-container-id-4 div.sk-parallel-item {display: flex;flex-direction: column;z-index: 1;position: relative;background-color: white;}#sk-container-id-4 div.sk-parallel-item:first-child::after {align-self: flex-end;width: 50%;}#sk-container-id-4 div.sk-parallel-item:last-child::after {align-self: flex-start;width: 50%;}#sk-container-id-4 div.sk-parallel-item:only-child::after {width: 0;}#sk-container-id-4 div.sk-dashed-wrapped {border: 1px dashed gray;margin: 0 0.4em 0.5em 0.4em;box-sizing: border-box;padding-bottom: 0.4em;background-color: white;}#sk-container-id-4 div.sk-label label {font-family: monospace;font-weight: bold;display: inline-block;line-height: 1.2em;}#sk-container-id-4 div.sk-label-container {text-align: center;}#sk-container-id-4 div.sk-container {/* jupyter's `normalize.less` sets `[hidden] { display: none; }` but bootstrap.min.css set `[hidden] { display: none !important; }` so we also need the `!important` here to be able to override the default hidden behavior on the sphinx rendered scikit-learn.org. See: https://github.com/scikit-learn/scikit-learn/issues/21755 */display: inline-block !important;position: relative;}#sk-container-id-4 div.sk-text-repr-fallback {display: none;}</style><div id=\"sk-container-id-4\" class=\"sk-top-container\"><div class=\"sk-text-repr-fallback\"><pre>RandomForestClassifier(max_depth=2, n_jobs=-1)</pre><b>In a Jupyter environment, please rerun this cell to show the HTML representation or trust the notebook. <br />On GitHub, the HTML representation is unable to render, please try loading this page with nbviewer.org.</b></div><div class=\"sk-container\" hidden><div class=\"sk-item\"><div class=\"sk-estimator sk-toggleable\"><input class=\"sk-toggleable__control sk-hidden--visually\" id=\"sk-estimator-id-4\" type=\"checkbox\" checked><label for=\"sk-estimator-id-4\" class=\"sk-toggleable__label sk-toggleable__label-arrow\">RandomForestClassifier</label><div class=\"sk-toggleable__content\"><pre>RandomForestClassifier(max_depth=2, n_jobs=-1)</pre></div></div></div></div></div>"
      ],
      "text/plain": [
       "RandomForestClassifier(max_depth=2, n_jobs=-1)"
      ]
     },
     "execution_count": 92,
     "metadata": {},
     "output_type": "execute_result"
    }
   ],
   "source": [
    "rf_bal = RandomForestClassifier(max_depth=2, n_jobs=-1)\n",
    "rf_bal.fit(x_train_bal, y_train_bal)"
   ]
  },
  {
   "cell_type": "code",
   "execution_count": 93,
   "id": "383eded2-bbd6-404b-89c6-ac1d999282e0",
   "metadata": {},
   "outputs": [
    {
     "name": "stdout",
     "output_type": "stream",
     "text": [
      "              precision    recall  f1-score   support\n",
      "\n",
      "   Not Fraud       0.85      0.98      0.91        54\n",
      "       Fraud       0.97      0.80      0.88        45\n",
      "\n",
      "    accuracy                           0.90        99\n",
      "   macro avg       0.91      0.89      0.90        99\n",
      "weighted avg       0.91      0.90      0.90        99\n",
      "\n"
     ]
    }
   ],
   "source": [
    "print(classification_report(y_val_bal, rf_bal.predict(x_val_bal), target_names=[\"Not Fraud\", \"Fraud\"]))"
   ]
  },
  {
   "cell_type": "markdown",
   "id": "38598fc7-e1d0-4ac7-8df7-647b32faf4bd",
   "metadata": {},
   "source": [
    "#### Gradient Boosting Model"
   ]
  },
  {
   "cell_type": "code",
   "execution_count": 94,
   "id": "49079cc7-22f0-420a-8ab0-a42137234a73",
   "metadata": {},
   "outputs": [
    {
     "data": {
      "text/html": [
       "<style>#sk-container-id-5 {color: black;}#sk-container-id-5 pre{padding: 0;}#sk-container-id-5 div.sk-toggleable {background-color: white;}#sk-container-id-5 label.sk-toggleable__label {cursor: pointer;display: block;width: 100%;margin-bottom: 0;padding: 0.3em;box-sizing: border-box;text-align: center;}#sk-container-id-5 label.sk-toggleable__label-arrow:before {content: \"▸\";float: left;margin-right: 0.25em;color: #696969;}#sk-container-id-5 label.sk-toggleable__label-arrow:hover:before {color: black;}#sk-container-id-5 div.sk-estimator:hover label.sk-toggleable__label-arrow:before {color: black;}#sk-container-id-5 div.sk-toggleable__content {max-height: 0;max-width: 0;overflow: hidden;text-align: left;background-color: #f0f8ff;}#sk-container-id-5 div.sk-toggleable__content pre {margin: 0.2em;color: black;border-radius: 0.25em;background-color: #f0f8ff;}#sk-container-id-5 input.sk-toggleable__control:checked~div.sk-toggleable__content {max-height: 200px;max-width: 100%;overflow: auto;}#sk-container-id-5 input.sk-toggleable__control:checked~label.sk-toggleable__label-arrow:before {content: \"▾\";}#sk-container-id-5 div.sk-estimator input.sk-toggleable__control:checked~label.sk-toggleable__label {background-color: #d4ebff;}#sk-container-id-5 div.sk-label input.sk-toggleable__control:checked~label.sk-toggleable__label {background-color: #d4ebff;}#sk-container-id-5 input.sk-hidden--visually {border: 0;clip: rect(1px 1px 1px 1px);clip: rect(1px, 1px, 1px, 1px);height: 1px;margin: -1px;overflow: hidden;padding: 0;position: absolute;width: 1px;}#sk-container-id-5 div.sk-estimator {font-family: monospace;background-color: #f0f8ff;border: 1px dotted black;border-radius: 0.25em;box-sizing: border-box;margin-bottom: 0.5em;}#sk-container-id-5 div.sk-estimator:hover {background-color: #d4ebff;}#sk-container-id-5 div.sk-parallel-item::after {content: \"\";width: 100%;border-bottom: 1px solid gray;flex-grow: 1;}#sk-container-id-5 div.sk-label:hover label.sk-toggleable__label {background-color: #d4ebff;}#sk-container-id-5 div.sk-serial::before {content: \"\";position: absolute;border-left: 1px solid gray;box-sizing: border-box;top: 0;bottom: 0;left: 50%;z-index: 0;}#sk-container-id-5 div.sk-serial {display: flex;flex-direction: column;align-items: center;background-color: white;padding-right: 0.2em;padding-left: 0.2em;position: relative;}#sk-container-id-5 div.sk-item {position: relative;z-index: 1;}#sk-container-id-5 div.sk-parallel {display: flex;align-items: stretch;justify-content: center;background-color: white;position: relative;}#sk-container-id-5 div.sk-item::before, #sk-container-id-5 div.sk-parallel-item::before {content: \"\";position: absolute;border-left: 1px solid gray;box-sizing: border-box;top: 0;bottom: 0;left: 50%;z-index: -1;}#sk-container-id-5 div.sk-parallel-item {display: flex;flex-direction: column;z-index: 1;position: relative;background-color: white;}#sk-container-id-5 div.sk-parallel-item:first-child::after {align-self: flex-end;width: 50%;}#sk-container-id-5 div.sk-parallel-item:last-child::after {align-self: flex-start;width: 50%;}#sk-container-id-5 div.sk-parallel-item:only-child::after {width: 0;}#sk-container-id-5 div.sk-dashed-wrapped {border: 1px dashed gray;margin: 0 0.4em 0.5em 0.4em;box-sizing: border-box;padding-bottom: 0.4em;background-color: white;}#sk-container-id-5 div.sk-label label {font-family: monospace;font-weight: bold;display: inline-block;line-height: 1.2em;}#sk-container-id-5 div.sk-label-container {text-align: center;}#sk-container-id-5 div.sk-container {/* jupyter's `normalize.less` sets `[hidden] { display: none; }` but bootstrap.min.css set `[hidden] { display: none !important; }` so we also need the `!important` here to be able to override the default hidden behavior on the sphinx rendered scikit-learn.org. See: https://github.com/scikit-learn/scikit-learn/issues/21755 */display: inline-block !important;position: relative;}#sk-container-id-5 div.sk-text-repr-fallback {display: none;}</style><div id=\"sk-container-id-5\" class=\"sk-top-container\"><div class=\"sk-text-repr-fallback\"><pre>GradientBoostingClassifier(learning_rate=1.0, max_depth=2, random_state=0)</pre><b>In a Jupyter environment, please rerun this cell to show the HTML representation or trust the notebook. <br />On GitHub, the HTML representation is unable to render, please try loading this page with nbviewer.org.</b></div><div class=\"sk-container\" hidden><div class=\"sk-item\"><div class=\"sk-estimator sk-toggleable\"><input class=\"sk-toggleable__control sk-hidden--visually\" id=\"sk-estimator-id-5\" type=\"checkbox\" checked><label for=\"sk-estimator-id-5\" class=\"sk-toggleable__label sk-toggleable__label-arrow\">GradientBoostingClassifier</label><div class=\"sk-toggleable__content\"><pre>GradientBoostingClassifier(learning_rate=1.0, max_depth=2, random_state=0)</pre></div></div></div></div></div>"
      ],
      "text/plain": [
       "GradientBoostingClassifier(learning_rate=1.0, max_depth=2, random_state=0)"
      ]
     },
     "execution_count": 94,
     "metadata": {},
     "output_type": "execute_result"
    }
   ],
   "source": [
    "gbc_bal = GradientBoostingClassifier(n_estimators=100, learning_rate=1.0, max_depth=2, random_state=0)\n",
    "gbc_bal.fit(x_train_bal, y_train_bal)"
   ]
  },
  {
   "cell_type": "code",
   "execution_count": 95,
   "id": "d2874ab2-7553-4be6-9e47-9f2a9e470996",
   "metadata": {},
   "outputs": [
    {
     "name": "stdout",
     "output_type": "stream",
     "text": [
      "              precision    recall  f1-score   support\n",
      "\n",
      "   Not Fraud       0.88      0.93      0.90        54\n",
      "       Fraud       0.90      0.84      0.87        45\n",
      "\n",
      "    accuracy                           0.89        99\n",
      "   macro avg       0.89      0.89      0.89        99\n",
      "weighted avg       0.89      0.89      0.89        99\n",
      "\n"
     ]
    }
   ],
   "source": [
    "print(classification_report(y_val_bal, gbc_bal.predict(x_val_bal), target_names=[\"Not Fraud\", \"Fraud\"]))"
   ]
  },
  {
   "cell_type": "markdown",
   "id": "a84f0795-3c31-4817-8934-704725bb1cd3",
   "metadata": {},
   "source": [
    "#### Support Vector Model"
   ]
  },
  {
   "cell_type": "code",
   "execution_count": 96,
   "id": "53cdb7be-c8c4-47c8-aa9c-3a1cc551a151",
   "metadata": {},
   "outputs": [
    {
     "name": "stderr",
     "output_type": "stream",
     "text": [
      "/Users/bennyschellinger/miniforge3/envs/new_env_name/lib/python3.8/site-packages/sklearn/svm/_classes.py:32: FutureWarning: The default value of `dual` will change from `True` to `'auto'` in 1.5. Set the value of `dual` explicitly to suppress the warning.\n",
      "  warnings.warn(\n",
      "/Users/bennyschellinger/miniforge3/envs/new_env_name/lib/python3.8/site-packages/sklearn/svm/_base.py:1242: ConvergenceWarning: Liblinear failed to converge, increase the number of iterations.\n",
      "  warnings.warn(\n"
     ]
    },
    {
     "data": {
      "text/html": [
       "<style>#sk-container-id-6 {color: black;}#sk-container-id-6 pre{padding: 0;}#sk-container-id-6 div.sk-toggleable {background-color: white;}#sk-container-id-6 label.sk-toggleable__label {cursor: pointer;display: block;width: 100%;margin-bottom: 0;padding: 0.3em;box-sizing: border-box;text-align: center;}#sk-container-id-6 label.sk-toggleable__label-arrow:before {content: \"▸\";float: left;margin-right: 0.25em;color: #696969;}#sk-container-id-6 label.sk-toggleable__label-arrow:hover:before {color: black;}#sk-container-id-6 div.sk-estimator:hover label.sk-toggleable__label-arrow:before {color: black;}#sk-container-id-6 div.sk-toggleable__content {max-height: 0;max-width: 0;overflow: hidden;text-align: left;background-color: #f0f8ff;}#sk-container-id-6 div.sk-toggleable__content pre {margin: 0.2em;color: black;border-radius: 0.25em;background-color: #f0f8ff;}#sk-container-id-6 input.sk-toggleable__control:checked~div.sk-toggleable__content {max-height: 200px;max-width: 100%;overflow: auto;}#sk-container-id-6 input.sk-toggleable__control:checked~label.sk-toggleable__label-arrow:before {content: \"▾\";}#sk-container-id-6 div.sk-estimator input.sk-toggleable__control:checked~label.sk-toggleable__label {background-color: #d4ebff;}#sk-container-id-6 div.sk-label input.sk-toggleable__control:checked~label.sk-toggleable__label {background-color: #d4ebff;}#sk-container-id-6 input.sk-hidden--visually {border: 0;clip: rect(1px 1px 1px 1px);clip: rect(1px, 1px, 1px, 1px);height: 1px;margin: -1px;overflow: hidden;padding: 0;position: absolute;width: 1px;}#sk-container-id-6 div.sk-estimator {font-family: monospace;background-color: #f0f8ff;border: 1px dotted black;border-radius: 0.25em;box-sizing: border-box;margin-bottom: 0.5em;}#sk-container-id-6 div.sk-estimator:hover {background-color: #d4ebff;}#sk-container-id-6 div.sk-parallel-item::after {content: \"\";width: 100%;border-bottom: 1px solid gray;flex-grow: 1;}#sk-container-id-6 div.sk-label:hover label.sk-toggleable__label {background-color: #d4ebff;}#sk-container-id-6 div.sk-serial::before {content: \"\";position: absolute;border-left: 1px solid gray;box-sizing: border-box;top: 0;bottom: 0;left: 50%;z-index: 0;}#sk-container-id-6 div.sk-serial {display: flex;flex-direction: column;align-items: center;background-color: white;padding-right: 0.2em;padding-left: 0.2em;position: relative;}#sk-container-id-6 div.sk-item {position: relative;z-index: 1;}#sk-container-id-6 div.sk-parallel {display: flex;align-items: stretch;justify-content: center;background-color: white;position: relative;}#sk-container-id-6 div.sk-item::before, #sk-container-id-6 div.sk-parallel-item::before {content: \"\";position: absolute;border-left: 1px solid gray;box-sizing: border-box;top: 0;bottom: 0;left: 50%;z-index: -1;}#sk-container-id-6 div.sk-parallel-item {display: flex;flex-direction: column;z-index: 1;position: relative;background-color: white;}#sk-container-id-6 div.sk-parallel-item:first-child::after {align-self: flex-end;width: 50%;}#sk-container-id-6 div.sk-parallel-item:last-child::after {align-self: flex-start;width: 50%;}#sk-container-id-6 div.sk-parallel-item:only-child::after {width: 0;}#sk-container-id-6 div.sk-dashed-wrapped {border: 1px dashed gray;margin: 0 0.4em 0.5em 0.4em;box-sizing: border-box;padding-bottom: 0.4em;background-color: white;}#sk-container-id-6 div.sk-label label {font-family: monospace;font-weight: bold;display: inline-block;line-height: 1.2em;}#sk-container-id-6 div.sk-label-container {text-align: center;}#sk-container-id-6 div.sk-container {/* jupyter's `normalize.less` sets `[hidden] { display: none; }` but bootstrap.min.css set `[hidden] { display: none !important; }` so we also need the `!important` here to be able to override the default hidden behavior on the sphinx rendered scikit-learn.org. See: https://github.com/scikit-learn/scikit-learn/issues/21755 */display: inline-block !important;position: relative;}#sk-container-id-6 div.sk-text-repr-fallback {display: none;}</style><div id=\"sk-container-id-6\" class=\"sk-top-container\"><div class=\"sk-text-repr-fallback\"><pre>LinearSVC(class_weight=&#x27;balanced&#x27;)</pre><b>In a Jupyter environment, please rerun this cell to show the HTML representation or trust the notebook. <br />On GitHub, the HTML representation is unable to render, please try loading this page with nbviewer.org.</b></div><div class=\"sk-container\" hidden><div class=\"sk-item\"><div class=\"sk-estimator sk-toggleable\"><input class=\"sk-toggleable__control sk-hidden--visually\" id=\"sk-estimator-id-6\" type=\"checkbox\" checked><label for=\"sk-estimator-id-6\" class=\"sk-toggleable__label sk-toggleable__label-arrow\">LinearSVC</label><div class=\"sk-toggleable__content\"><pre>LinearSVC(class_weight=&#x27;balanced&#x27;)</pre></div></div></div></div></div>"
      ],
      "text/plain": [
       "LinearSVC(class_weight='balanced')"
      ]
     },
     "execution_count": 96,
     "metadata": {},
     "output_type": "execute_result"
    }
   ],
   "source": [
    "svc_bal = LinearSVC(class_weight=\"balanced\")\n",
    "svc_bal.fit(x_train_bal, y_train_bal)"
   ]
  },
  {
   "cell_type": "code",
   "execution_count": 97,
   "id": "b6e604c5-383e-46d8-abf1-2d633d3ab7a2",
   "metadata": {},
   "outputs": [
    {
     "name": "stdout",
     "output_type": "stream",
     "text": [
      "              precision    recall  f1-score   support\n",
      "\n",
      "   Not Fraud       0.93      0.96      0.95        54\n",
      "       Fraud       0.95      0.91      0.93        45\n",
      "\n",
      "    accuracy                           0.94        99\n",
      "   macro avg       0.94      0.94      0.94        99\n",
      "weighted avg       0.94      0.94      0.94        99\n",
      "\n"
     ]
    }
   ],
   "source": [
    "print(classification_report(y_val_bal, svc_bal.predict(x_val_bal), target_names=[\"Not Fraud\", \"Fraud\"]))"
   ]
  },
  {
   "cell_type": "markdown",
   "id": "ea560938-afb4-4bdd-ae3d-d013517032f0",
   "metadata": {},
   "source": [
    "### Model Classification Overview (Undersampled Data)"
   ]
  },
  {
   "cell_type": "markdown",
   "id": "f6cd7413-04d7-45f2-8515-aca1b6dcb8a0",
   "metadata": {},
   "source": [
    "| Balanced Model                         | Class     | Precision | Recall | F1-Score | Accuracy | Support |\n",
    "|-------------------------------|-----------|-----------|--------|----------|----------|---------|\n",
    "| Logistic Regression (LogReg)  | Not Fraud | 0.95      | 0.96   | 0.95     | 0.95     | 54      |\n",
    "|                               | Fraud     | 0.95      | 0.93   | 0.94     | 0.95     | 45      |\n",
    "| Shallow Neural Network (1)    | Not Fraud | 0.83      | 1.00   | 0.91     | 0.89     | 54      |\n",
    "|                               | Fraud     | 1.00      | 0.76   | 0.86     | 0.89     | 45      |\n",
    "| Shallow Neural Network (2)    | Not Fraud | 0.84      | 0.96   | 0.90     | 0.88     | 54      |\n",
    "|                               | Fraud     | 0.95      | 0.78   | 0.85     | 0.88     | 45      |\n",
    "| Random Forest Classifier      | Not Fraud | 0.85      | 0.98   | 0.91     | 0.90     | 54      |\n",
    "|                               | Fraud     | 0.97      | 0.80   | 0.88     | 0.90     | 45      |\n",
    "| Gradient Boosting Classifier  | Not Fraud | 0.88      | 0.93   | 0.90     | 0.89     | 54      |\n",
    "|                               | Fraud     | 0.90      | 0.84   | 0.87     | 0.89     | 45      |\n",
    "| Support Vector Machine (SVM)  | Not Fraud | 0.93      | 0.96   | 0.95     | 0.94     | 54      |\n",
    "|                               | Fraud     | 0.95      | 0.91   | 0.93     | 0.94     | 45      |\n"
   ]
  },
  {
   "cell_type": "code",
   "execution_count": null,
   "id": "553b9a18-cc56-4d96-9149-f47694505aff",
   "metadata": {},
   "outputs": [],
   "source": []
  },
  {
   "cell_type": "code",
   "execution_count": null,
   "id": "ff9ac18e-f4bf-4a21-8c5d-1cfda66414c1",
   "metadata": {},
   "outputs": [],
   "source": []
  },
  {
   "cell_type": "markdown",
   "id": "c04fc16f-67f0-4bdd-85be-985938fd2cd6",
   "metadata": {},
   "source": [
    "# 4. Testing Best Model on Unseen Data"
   ]
  },
  {
   "cell_type": "markdown",
   "id": "82006d6e-87e6-446b-b90b-a6da5d9a137f",
   "metadata": {},
   "source": [
    "In our quest to find the optimal model for credit card fraud detection, we focus on the F1-score for \"Fraud\" due to its holistic view combining precision and recall. Through our analysis:\n",
    "\n",
    "- **Balanced dataset** is prioritized for evaluation due to its fair class representation.\n",
    "- Among all models, **Logistic Regression (LogReg)** stands out with the highest F1-score of **0.94** for detecting fraud."
   ]
  },
  {
   "cell_type": "code",
   "execution_count": 98,
   "id": "c27c75cb-7bfe-4b64-982b-7aaedf9e95b0",
   "metadata": {},
   "outputs": [
    {
     "name": "stdout",
     "output_type": "stream",
     "text": [
      "              precision    recall  f1-score   support\n",
      "\n",
      "   Not Fraud       1.00      0.96      0.98        54\n",
      "       Fraud       0.96      1.00      0.98        44\n",
      "\n",
      "    accuracy                           0.98        98\n",
      "   macro avg       0.98      0.98      0.98        98\n",
      "weighted avg       0.98      0.98      0.98        98\n",
      "\n"
     ]
    }
   ],
   "source": [
    "# predict on unseen holdout data (y_test_bal, x_test_bal)\n",
    "print(classification_report(y_test_bal, logreg_bal.predict(x_test_bal), target_names=[\"Not Fraud\", \"Fraud\"]))"
   ]
  },
  {
   "cell_type": "markdown",
   "id": "25a76c33-862c-4a75-bf73-848eb0f9e6cb",
   "metadata": {},
   "source": [
    "### Plot Credit Card Detection Model Effectiveness"
   ]
  },
  {
   "cell_type": "code",
   "execution_count": 101,
   "id": "8fc556ed-270b-460e-9516-a8bfb86e70d9",
   "metadata": {},
   "outputs": [
    {
     "data": {
      "image/png": "[encoded data removed]",
      "text/plain": [
       "<Figure size 1000x600 with 1 Axes>"
      ]
     },
     "metadata": {},
     "output_type": "display_data"
    }
   ],
   "source": [
    "import matplotlib.pyplot as plt\n",
    "import numpy as np\n",
    "\n",
    "# Assuming y_test_bal contains your true labels and predictions contains the predicted labels\n",
    "true_labels = y_test_bal  # Your true labels\n",
    "predictions = logreg_bal.predict(x_test_bal)  # Your model's predictions\n",
    "\n",
    "# Generate indices for your labels for plotting purposes\n",
    "indices = np.arange(len(true_labels))\n",
    "\n",
    "# Plotting the true labels\n",
    "plt.figure(figsize=(10, 6))\n",
    "plt.scatter(indices[true_labels == 0], true_labels[true_labels == 0], alpha=0.5, marker='o', color='blue', label='True Not Fraud')\n",
    "plt.scatter(indices[true_labels == 1], true_labels[true_labels == 1], alpha=0.5, marker='^', color='red', label='True Fraud')\n",
    "\n",
    "# Plotting the predicted labels slightly offset for visibility\n",
    "plt.scatter(indices[predictions == 0], predictions[predictions == 0] - 0.05, alpha=0.5, marker='x', color='cyan', label='Predicted Not Fraud')\n",
    "plt.scatter(indices[predictions == 1], predictions[predictions == 1] + 0.05, alpha=0.5, marker='+', color='magenta', label='Predicted Fraud')\n",
    "\n",
    "plt.title('Logistic Regression Fraud Detection Prediction')\n",
    "plt.xlabel('Transaction Index')\n",
    "plt.ylabel('Class')\n",
    "plt.yticks([0, 1], ['Not Fraud', 'Fraud'])\n",
    "plt.legend()\n",
    "plt.grid(True)\n",
    "plt.savefig(\"assets/model_effectiveness.png\")\n",
    "plt.show()"
   ]
  },
  {
   "cell_type": "markdown",
   "id": "73fd7167-afda-4bd9-8a5e-d2c24dc2e664",
   "metadata": {},
   "source": [
    "This code evaluates our Logistic Regression model on unseen holdout data (`x_test_bal`), measuring its performance against actual labels (`y_test_bal`). It utilizes `classification_report` to present precision, recall, and F1-scores for both \"Not Fraud\" and \"Fraud\" classes, offering a comprehensive performance breakdown.\n",
    "\n",
    "- **Not Fraud:**\n",
    "  - **Precision:** At 1.00, the model perfectly identifies legitimate transactions, ensuring no false positives.\n",
    "  - **Recall:** At 0.96, it successfully flags 96% of legitimate transactions, with a minimal chance of misclassifying fraud as legitimate.\n",
    "  - **F1-Score:** At 0.98, there's an excellent balance between precision and recall, indicating reliable identification of legitimate transactions.\n",
    "\n",
    "- **Fraud:**\n",
    "  - **Precision:** At 0.96, nearly all transactions flagged as fraud are indeed fraudulent, minimizing the inconvenience to customers.\n",
    "  - **Recall:** At 1.00, it captures 100% of fraudulent transactions, showcasing the model's effectiveness in fraud detection.\n",
    "  - **F1-Score:** At 0.98, the model demonstrates a perfect balance in accurately identifying fraud without misclassifying legitimate transactions.\n",
    "\n",
    "- **Overall Accuracy:** At 0.98 for the combined dataset of 98 transactions, the model proves to be highly effective in distinguishing between fraudulent and legitimate transactions.\n",
    "\n",
    "**Conclusion:** The model exhibits outstanding precision and recall for both classes, showcasing its capability to accurately detect fraud while minimizing false positives, thus proving its robustness and reliability for credit card fraud detection.\n"
   ]
  },
  {
   "cell_type": "code",
   "execution_count": null,
   "id": "7208b69b-d4d2-40ba-bf78-3623a0e09a26",
   "metadata": {},
   "outputs": [],
   "source": []
  },
  {
   "cell_type": "code",
   "execution_count": null,
   "id": "0fbbb0e8-30e2-4823-a871-e6f639a19a6c",
   "metadata": {},
   "outputs": [],
   "source": []
  }
 ],
 "metadata": {
  "kernelspec": {
   "display_name": "Python 3 (ipykernel)",
   "language": "python",
   "name": "python3"
  },
  "language_info": {
   "codemirror_mode": {
    "name": "ipython",
    "version": 3
   },
   "file_extension": ".py",
   "mimetype": "text/x-python",
   "name": "python",
   "nbconvert_exporter": "python",
   "pygments_lexer": "ipython3",
   "version": "3.8.16"
  }
 },
 "nbformat": 4,
 "nbformat_minor": 5
}
